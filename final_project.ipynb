{
  "nbformat": 4,
  "nbformat_minor": 0,
  "metadata": {
    "colab": {
      "provenance": [],
      "collapsed_sections": [
        "lZcSgvYpNaVV",
        "TNsF6G3eNhC8",
        "rUkK7CPwNlGJ"
      ],
      "authorship_tag": "ABX9TyMUNEh8CXDGa9CT7rb4+9ss",
      "include_colab_link": true
    },
    "kernelspec": {
      "name": "python3",
      "display_name": "Python 3"
    },
    "language_info": {
      "name": "python"
    },
    "gpuClass": "standard"
  },
  "cells": [
    {
      "cell_type": "markdown",
      "metadata": {
        "id": "view-in-github",
        "colab_type": "text"
      },
      "source": [
        "<a href=\"https://colab.research.google.com/github/Panshark/SBAQ_simulate/blob/main/final_project.ipynb\" target=\"_parent\"><img src=\"https://colab.research.google.com/assets/colab-badge.svg\" alt=\"Open In Colab\"/></a>"
      ]
    },
    {
      "cell_type": "code",
      "execution_count": null,
      "metadata": {
        "id": "FfRQpBYX38EZ",
        "colab": {
          "base_uri": "https://localhost:8080/",
          "height": 377
        },
        "outputId": "42d355e0-7fa1-4083-ccc3-fc5eafccdbe0"
      },
      "outputs": [
        {
          "output_type": "error",
          "ename": "FileNotFoundError",
          "evalue": "ignored",
          "traceback": [
            "\u001b[0;31m---------------------------------------------------------------------------\u001b[0m",
            "\u001b[0;31mFileNotFoundError\u001b[0m                         Traceback (most recent call last)",
            "\u001b[0;32m<ipython-input-2-5549057e86b0>\u001b[0m in \u001b[0;36m<module>\u001b[0;34m\u001b[0m\n\u001b[1;32m      7\u001b[0m \u001b[0;32mfrom\u001b[0m \u001b[0mmatplotlib\u001b[0m\u001b[0;34m.\u001b[0m\u001b[0mticker\u001b[0m \u001b[0;32mimport\u001b[0m \u001b[0mMaxNLocator\u001b[0m\u001b[0;34m\u001b[0m\u001b[0;34m\u001b[0m\u001b[0m\n\u001b[1;32m      8\u001b[0m \u001b[0;34m\u001b[0m\u001b[0m\n\u001b[0;32m----> 9\u001b[0;31m \u001b[0mdf_inter\u001b[0m \u001b[0;34m=\u001b[0m \u001b[0mpd\u001b[0m\u001b[0;34m.\u001b[0m\u001b[0mread_table\u001b[0m\u001b[0;34m(\u001b[0m\u001b[0;34m'./sd02.txt'\u001b[0m\u001b[0;34m,\u001b[0m\u001b[0mheader\u001b[0m \u001b[0;34m=\u001b[0m \u001b[0;32mNone\u001b[0m\u001b[0;34m)\u001b[0m\u001b[0;34m\u001b[0m\u001b[0;34m\u001b[0m\u001b[0m\n\u001b[0m\u001b[1;32m     10\u001b[0m \u001b[0mdf_char\u001b[0m \u001b[0;34m=\u001b[0m \u001b[0mpd\u001b[0m\u001b[0;34m.\u001b[0m\u001b[0mread_table\u001b[0m\u001b[0;34m(\u001b[0m\u001b[0;34m'./sd03.txt'\u001b[0m\u001b[0;34m,\u001b[0m\u001b[0mheader\u001b[0m \u001b[0;34m=\u001b[0m \u001b[0;32mNone\u001b[0m\u001b[0;34m)\u001b[0m\u001b[0;34m\u001b[0m\u001b[0;34m\u001b[0m\u001b[0m\n",
            "\u001b[0;32m/usr/local/lib/python3.8/dist-packages/pandas/util/_decorators.py\u001b[0m in \u001b[0;36mwrapper\u001b[0;34m(*args, **kwargs)\u001b[0m\n\u001b[1;32m    309\u001b[0m                     \u001b[0mstacklevel\u001b[0m\u001b[0;34m=\u001b[0m\u001b[0mstacklevel\u001b[0m\u001b[0;34m,\u001b[0m\u001b[0;34m\u001b[0m\u001b[0;34m\u001b[0m\u001b[0m\n\u001b[1;32m    310\u001b[0m                 )\n\u001b[0;32m--> 311\u001b[0;31m             \u001b[0;32mreturn\u001b[0m \u001b[0mfunc\u001b[0m\u001b[0;34m(\u001b[0m\u001b[0;34m*\u001b[0m\u001b[0margs\u001b[0m\u001b[0;34m,\u001b[0m \u001b[0;34m**\u001b[0m\u001b[0mkwargs\u001b[0m\u001b[0;34m)\u001b[0m\u001b[0;34m\u001b[0m\u001b[0;34m\u001b[0m\u001b[0m\n\u001b[0m\u001b[1;32m    312\u001b[0m \u001b[0;34m\u001b[0m\u001b[0m\n\u001b[1;32m    313\u001b[0m         \u001b[0;32mreturn\u001b[0m \u001b[0mwrapper\u001b[0m\u001b[0;34m\u001b[0m\u001b[0;34m\u001b[0m\u001b[0m\n",
            "\u001b[0;32m/usr/local/lib/python3.8/dist-packages/pandas/io/parsers/readers.py\u001b[0m in \u001b[0;36mread_table\u001b[0;34m(filepath_or_buffer, sep, delimiter, header, names, index_col, usecols, squeeze, prefix, mangle_dupe_cols, dtype, engine, converters, true_values, false_values, skipinitialspace, skiprows, skipfooter, nrows, na_values, keep_default_na, na_filter, verbose, skip_blank_lines, parse_dates, infer_datetime_format, keep_date_col, date_parser, dayfirst, cache_dates, iterator, chunksize, compression, thousands, decimal, lineterminator, quotechar, quoting, doublequote, escapechar, comment, encoding, dialect, error_bad_lines, warn_bad_lines, on_bad_lines, encoding_errors, delim_whitespace, low_memory, memory_map, float_precision)\u001b[0m\n\u001b[1;32m    681\u001b[0m     \u001b[0mkwds\u001b[0m\u001b[0;34m.\u001b[0m\u001b[0mupdate\u001b[0m\u001b[0;34m(\u001b[0m\u001b[0mkwds_defaults\u001b[0m\u001b[0;34m)\u001b[0m\u001b[0;34m\u001b[0m\u001b[0;34m\u001b[0m\u001b[0m\n\u001b[1;32m    682\u001b[0m \u001b[0;34m\u001b[0m\u001b[0m\n\u001b[0;32m--> 683\u001b[0;31m     \u001b[0;32mreturn\u001b[0m \u001b[0m_read\u001b[0m\u001b[0;34m(\u001b[0m\u001b[0mfilepath_or_buffer\u001b[0m\u001b[0;34m,\u001b[0m \u001b[0mkwds\u001b[0m\u001b[0;34m)\u001b[0m\u001b[0;34m\u001b[0m\u001b[0;34m\u001b[0m\u001b[0m\n\u001b[0m\u001b[1;32m    684\u001b[0m \u001b[0;34m\u001b[0m\u001b[0m\n\u001b[1;32m    685\u001b[0m \u001b[0;34m\u001b[0m\u001b[0m\n",
            "\u001b[0;32m/usr/local/lib/python3.8/dist-packages/pandas/io/parsers/readers.py\u001b[0m in \u001b[0;36m_read\u001b[0;34m(filepath_or_buffer, kwds)\u001b[0m\n\u001b[1;32m    480\u001b[0m \u001b[0;34m\u001b[0m\u001b[0m\n\u001b[1;32m    481\u001b[0m     \u001b[0;31m# Create the parser.\u001b[0m\u001b[0;34m\u001b[0m\u001b[0;34m\u001b[0m\u001b[0;34m\u001b[0m\u001b[0m\n\u001b[0;32m--> 482\u001b[0;31m     \u001b[0mparser\u001b[0m \u001b[0;34m=\u001b[0m \u001b[0mTextFileReader\u001b[0m\u001b[0;34m(\u001b[0m\u001b[0mfilepath_or_buffer\u001b[0m\u001b[0;34m,\u001b[0m \u001b[0;34m**\u001b[0m\u001b[0mkwds\u001b[0m\u001b[0;34m)\u001b[0m\u001b[0;34m\u001b[0m\u001b[0;34m\u001b[0m\u001b[0m\n\u001b[0m\u001b[1;32m    483\u001b[0m \u001b[0;34m\u001b[0m\u001b[0m\n\u001b[1;32m    484\u001b[0m     \u001b[0;32mif\u001b[0m \u001b[0mchunksize\u001b[0m \u001b[0;32mor\u001b[0m \u001b[0miterator\u001b[0m\u001b[0;34m:\u001b[0m\u001b[0;34m\u001b[0m\u001b[0;34m\u001b[0m\u001b[0m\n",
            "\u001b[0;32m/usr/local/lib/python3.8/dist-packages/pandas/io/parsers/readers.py\u001b[0m in \u001b[0;36m__init__\u001b[0;34m(self, f, engine, **kwds)\u001b[0m\n\u001b[1;32m    809\u001b[0m             \u001b[0mself\u001b[0m\u001b[0;34m.\u001b[0m\u001b[0moptions\u001b[0m\u001b[0;34m[\u001b[0m\u001b[0;34m\"has_index_names\"\u001b[0m\u001b[0;34m]\u001b[0m \u001b[0;34m=\u001b[0m \u001b[0mkwds\u001b[0m\u001b[0;34m[\u001b[0m\u001b[0;34m\"has_index_names\"\u001b[0m\u001b[0;34m]\u001b[0m\u001b[0;34m\u001b[0m\u001b[0;34m\u001b[0m\u001b[0m\n\u001b[1;32m    810\u001b[0m \u001b[0;34m\u001b[0m\u001b[0m\n\u001b[0;32m--> 811\u001b[0;31m         \u001b[0mself\u001b[0m\u001b[0;34m.\u001b[0m\u001b[0m_engine\u001b[0m \u001b[0;34m=\u001b[0m \u001b[0mself\u001b[0m\u001b[0;34m.\u001b[0m\u001b[0m_make_engine\u001b[0m\u001b[0;34m(\u001b[0m\u001b[0mself\u001b[0m\u001b[0;34m.\u001b[0m\u001b[0mengine\u001b[0m\u001b[0;34m)\u001b[0m\u001b[0;34m\u001b[0m\u001b[0;34m\u001b[0m\u001b[0m\n\u001b[0m\u001b[1;32m    812\u001b[0m \u001b[0;34m\u001b[0m\u001b[0m\n\u001b[1;32m    813\u001b[0m     \u001b[0;32mdef\u001b[0m \u001b[0mclose\u001b[0m\u001b[0;34m(\u001b[0m\u001b[0mself\u001b[0m\u001b[0;34m)\u001b[0m\u001b[0;34m:\u001b[0m\u001b[0;34m\u001b[0m\u001b[0;34m\u001b[0m\u001b[0m\n",
            "\u001b[0;32m/usr/local/lib/python3.8/dist-packages/pandas/io/parsers/readers.py\u001b[0m in \u001b[0;36m_make_engine\u001b[0;34m(self, engine)\u001b[0m\n\u001b[1;32m   1038\u001b[0m             )\n\u001b[1;32m   1039\u001b[0m         \u001b[0;31m# error: Too many arguments for \"ParserBase\"\u001b[0m\u001b[0;34m\u001b[0m\u001b[0;34m\u001b[0m\u001b[0;34m\u001b[0m\u001b[0m\n\u001b[0;32m-> 1040\u001b[0;31m         \u001b[0;32mreturn\u001b[0m \u001b[0mmapping\u001b[0m\u001b[0;34m[\u001b[0m\u001b[0mengine\u001b[0m\u001b[0;34m]\u001b[0m\u001b[0;34m(\u001b[0m\u001b[0mself\u001b[0m\u001b[0;34m.\u001b[0m\u001b[0mf\u001b[0m\u001b[0;34m,\u001b[0m \u001b[0;34m**\u001b[0m\u001b[0mself\u001b[0m\u001b[0;34m.\u001b[0m\u001b[0moptions\u001b[0m\u001b[0;34m)\u001b[0m  \u001b[0;31m# type: ignore[call-arg]\u001b[0m\u001b[0;34m\u001b[0m\u001b[0;34m\u001b[0m\u001b[0m\n\u001b[0m\u001b[1;32m   1041\u001b[0m \u001b[0;34m\u001b[0m\u001b[0m\n\u001b[1;32m   1042\u001b[0m     \u001b[0;32mdef\u001b[0m \u001b[0m_failover_to_python\u001b[0m\u001b[0;34m(\u001b[0m\u001b[0mself\u001b[0m\u001b[0;34m)\u001b[0m\u001b[0;34m:\u001b[0m\u001b[0;34m\u001b[0m\u001b[0;34m\u001b[0m\u001b[0m\n",
            "\u001b[0;32m/usr/local/lib/python3.8/dist-packages/pandas/io/parsers/c_parser_wrapper.py\u001b[0m in \u001b[0;36m__init__\u001b[0;34m(self, src, **kwds)\u001b[0m\n\u001b[1;32m     49\u001b[0m \u001b[0;34m\u001b[0m\u001b[0m\n\u001b[1;32m     50\u001b[0m         \u001b[0;31m# open handles\u001b[0m\u001b[0;34m\u001b[0m\u001b[0;34m\u001b[0m\u001b[0;34m\u001b[0m\u001b[0m\n\u001b[0;32m---> 51\u001b[0;31m         \u001b[0mself\u001b[0m\u001b[0;34m.\u001b[0m\u001b[0m_open_handles\u001b[0m\u001b[0;34m(\u001b[0m\u001b[0msrc\u001b[0m\u001b[0;34m,\u001b[0m \u001b[0mkwds\u001b[0m\u001b[0;34m)\u001b[0m\u001b[0;34m\u001b[0m\u001b[0;34m\u001b[0m\u001b[0m\n\u001b[0m\u001b[1;32m     52\u001b[0m         \u001b[0;32massert\u001b[0m \u001b[0mself\u001b[0m\u001b[0;34m.\u001b[0m\u001b[0mhandles\u001b[0m \u001b[0;32mis\u001b[0m \u001b[0;32mnot\u001b[0m \u001b[0;32mNone\u001b[0m\u001b[0;34m\u001b[0m\u001b[0;34m\u001b[0m\u001b[0m\n\u001b[1;32m     53\u001b[0m \u001b[0;34m\u001b[0m\u001b[0m\n",
            "\u001b[0;32m/usr/local/lib/python3.8/dist-packages/pandas/io/parsers/base_parser.py\u001b[0m in \u001b[0;36m_open_handles\u001b[0;34m(self, src, kwds)\u001b[0m\n\u001b[1;32m    220\u001b[0m         \u001b[0mLet\u001b[0m \u001b[0mthe\u001b[0m \u001b[0mreaders\u001b[0m \u001b[0mopen\u001b[0m \u001b[0mIOHandles\u001b[0m \u001b[0mafter\u001b[0m \u001b[0mthey\u001b[0m \u001b[0mare\u001b[0m \u001b[0mdone\u001b[0m \u001b[0;32mwith\u001b[0m \u001b[0mtheir\u001b[0m \u001b[0mpotential\u001b[0m \u001b[0mraises\u001b[0m\u001b[0;34m.\u001b[0m\u001b[0;34m\u001b[0m\u001b[0;34m\u001b[0m\u001b[0m\n\u001b[1;32m    221\u001b[0m         \"\"\"\n\u001b[0;32m--> 222\u001b[0;31m         self.handles = get_handle(\n\u001b[0m\u001b[1;32m    223\u001b[0m             \u001b[0msrc\u001b[0m\u001b[0;34m,\u001b[0m\u001b[0;34m\u001b[0m\u001b[0;34m\u001b[0m\u001b[0m\n\u001b[1;32m    224\u001b[0m             \u001b[0;34m\"r\"\u001b[0m\u001b[0;34m,\u001b[0m\u001b[0;34m\u001b[0m\u001b[0;34m\u001b[0m\u001b[0m\n",
            "\u001b[0;32m/usr/local/lib/python3.8/dist-packages/pandas/io/common.py\u001b[0m in \u001b[0;36mget_handle\u001b[0;34m(path_or_buf, mode, encoding, compression, memory_map, is_text, errors, storage_options)\u001b[0m\n\u001b[1;32m    700\u001b[0m         \u001b[0;32mif\u001b[0m \u001b[0mioargs\u001b[0m\u001b[0;34m.\u001b[0m\u001b[0mencoding\u001b[0m \u001b[0;32mand\u001b[0m \u001b[0;34m\"b\"\u001b[0m \u001b[0;32mnot\u001b[0m \u001b[0;32min\u001b[0m \u001b[0mioargs\u001b[0m\u001b[0;34m.\u001b[0m\u001b[0mmode\u001b[0m\u001b[0;34m:\u001b[0m\u001b[0;34m\u001b[0m\u001b[0;34m\u001b[0m\u001b[0m\n\u001b[1;32m    701\u001b[0m             \u001b[0;31m# Encoding\u001b[0m\u001b[0;34m\u001b[0m\u001b[0;34m\u001b[0m\u001b[0;34m\u001b[0m\u001b[0m\n\u001b[0;32m--> 702\u001b[0;31m             handle = open(\n\u001b[0m\u001b[1;32m    703\u001b[0m                 \u001b[0mhandle\u001b[0m\u001b[0;34m,\u001b[0m\u001b[0;34m\u001b[0m\u001b[0;34m\u001b[0m\u001b[0m\n\u001b[1;32m    704\u001b[0m                 \u001b[0mioargs\u001b[0m\u001b[0;34m.\u001b[0m\u001b[0mmode\u001b[0m\u001b[0;34m,\u001b[0m\u001b[0;34m\u001b[0m\u001b[0;34m\u001b[0m\u001b[0m\n",
            "\u001b[0;31mFileNotFoundError\u001b[0m: [Errno 2] No such file or directory: './sd02.txt'"
          ]
        }
      ],
      "source": [
        "import numpy as np\n",
        "import pandas as pd\n",
        "import re\n",
        "from tqdm import tqdm, trange\n",
        "import random\n",
        "import matplotlib.pyplot as plt\n",
        "from matplotlib.ticker import MaxNLocator\n",
        "\n",
        "df_inter = pd.read_table('./sd02.txt',header = None)\n",
        "df_char = pd.read_table('./sd03.txt',header = None)"
      ]
    },
    {
      "cell_type": "code",
      "source": [
        "df_inter"
      ],
      "metadata": {
        "colab": {
          "base_uri": "https://localhost:8080/",
          "height": 424
        },
        "id": "P3mum-5nyzDA",
        "outputId": "cf250446-c963-4ae1-c007-ecb15f66c10c"
      },
      "execution_count": null,
      "outputs": [
        {
          "output_type": "execute_result",
          "data": {
            "text/plain": [
              "          0    1  2\n",
              "0         4  436  1\n",
              "1         4  590  2\n",
              "2         4  484  1\n",
              "3         4  615  1\n",
              "4         4  325  3\n",
              "...     ...  ... ..\n",
              "762863  406  673  1\n",
              "762864  406  673  8\n",
              "762865  406  673  2\n",
              "762866  406  673  6\n",
              "762867  406  673  1\n",
              "\n",
              "[762868 rows x 3 columns]"
            ],
            "text/html": [
              "\n",
              "  <div id=\"df-b53839f8-f2ec-446e-93f9-98f5a2c8c4a0\">\n",
              "    <div class=\"colab-df-container\">\n",
              "      <div>\n",
              "<style scoped>\n",
              "    .dataframe tbody tr th:only-of-type {\n",
              "        vertical-align: middle;\n",
              "    }\n",
              "\n",
              "    .dataframe tbody tr th {\n",
              "        vertical-align: top;\n",
              "    }\n",
              "\n",
              "    .dataframe thead th {\n",
              "        text-align: right;\n",
              "    }\n",
              "</style>\n",
              "<table border=\"1\" class=\"dataframe\">\n",
              "  <thead>\n",
              "    <tr style=\"text-align: right;\">\n",
              "      <th></th>\n",
              "      <th>0</th>\n",
              "      <th>1</th>\n",
              "      <th>2</th>\n",
              "    </tr>\n",
              "  </thead>\n",
              "  <tbody>\n",
              "    <tr>\n",
              "      <th>0</th>\n",
              "      <td>4</td>\n",
              "      <td>436</td>\n",
              "      <td>1</td>\n",
              "    </tr>\n",
              "    <tr>\n",
              "      <th>1</th>\n",
              "      <td>4</td>\n",
              "      <td>590</td>\n",
              "      <td>2</td>\n",
              "    </tr>\n",
              "    <tr>\n",
              "      <th>2</th>\n",
              "      <td>4</td>\n",
              "      <td>484</td>\n",
              "      <td>1</td>\n",
              "    </tr>\n",
              "    <tr>\n",
              "      <th>3</th>\n",
              "      <td>4</td>\n",
              "      <td>615</td>\n",
              "      <td>1</td>\n",
              "    </tr>\n",
              "    <tr>\n",
              "      <th>4</th>\n",
              "      <td>4</td>\n",
              "      <td>325</td>\n",
              "      <td>3</td>\n",
              "    </tr>\n",
              "    <tr>\n",
              "      <th>...</th>\n",
              "      <td>...</td>\n",
              "      <td>...</td>\n",
              "      <td>...</td>\n",
              "    </tr>\n",
              "    <tr>\n",
              "      <th>762863</th>\n",
              "      <td>406</td>\n",
              "      <td>673</td>\n",
              "      <td>1</td>\n",
              "    </tr>\n",
              "    <tr>\n",
              "      <th>762864</th>\n",
              "      <td>406</td>\n",
              "      <td>673</td>\n",
              "      <td>8</td>\n",
              "    </tr>\n",
              "    <tr>\n",
              "      <th>762865</th>\n",
              "      <td>406</td>\n",
              "      <td>673</td>\n",
              "      <td>2</td>\n",
              "    </tr>\n",
              "    <tr>\n",
              "      <th>762866</th>\n",
              "      <td>406</td>\n",
              "      <td>673</td>\n",
              "      <td>6</td>\n",
              "    </tr>\n",
              "    <tr>\n",
              "      <th>762867</th>\n",
              "      <td>406</td>\n",
              "      <td>673</td>\n",
              "      <td>1</td>\n",
              "    </tr>\n",
              "  </tbody>\n",
              "</table>\n",
              "<p>762868 rows × 3 columns</p>\n",
              "</div>\n",
              "      <button class=\"colab-df-convert\" onclick=\"convertToInteractive('df-b53839f8-f2ec-446e-93f9-98f5a2c8c4a0')\"\n",
              "              title=\"Convert this dataframe to an interactive table.\"\n",
              "              style=\"display:none;\">\n",
              "        \n",
              "  <svg xmlns=\"http://www.w3.org/2000/svg\" height=\"24px\"viewBox=\"0 0 24 24\"\n",
              "       width=\"24px\">\n",
              "    <path d=\"M0 0h24v24H0V0z\" fill=\"none\"/>\n",
              "    <path d=\"M18.56 5.44l.94 2.06.94-2.06 2.06-.94-2.06-.94-.94-2.06-.94 2.06-2.06.94zm-11 1L8.5 8.5l.94-2.06 2.06-.94-2.06-.94L8.5 2.5l-.94 2.06-2.06.94zm10 10l.94 2.06.94-2.06 2.06-.94-2.06-.94-.94-2.06-.94 2.06-2.06.94z\"/><path d=\"M17.41 7.96l-1.37-1.37c-.4-.4-.92-.59-1.43-.59-.52 0-1.04.2-1.43.59L10.3 9.45l-7.72 7.72c-.78.78-.78 2.05 0 2.83L4 21.41c.39.39.9.59 1.41.59.51 0 1.02-.2 1.41-.59l7.78-7.78 2.81-2.81c.8-.78.8-2.07 0-2.86zM5.41 20L4 18.59l7.72-7.72 1.47 1.35L5.41 20z\"/>\n",
              "  </svg>\n",
              "      </button>\n",
              "      \n",
              "  <style>\n",
              "    .colab-df-container {\n",
              "      display:flex;\n",
              "      flex-wrap:wrap;\n",
              "      gap: 12px;\n",
              "    }\n",
              "\n",
              "    .colab-df-convert {\n",
              "      background-color: #E8F0FE;\n",
              "      border: none;\n",
              "      border-radius: 50%;\n",
              "      cursor: pointer;\n",
              "      display: none;\n",
              "      fill: #1967D2;\n",
              "      height: 32px;\n",
              "      padding: 0 0 0 0;\n",
              "      width: 32px;\n",
              "    }\n",
              "\n",
              "    .colab-df-convert:hover {\n",
              "      background-color: #E2EBFA;\n",
              "      box-shadow: 0px 1px 2px rgba(60, 64, 67, 0.3), 0px 1px 3px 1px rgba(60, 64, 67, 0.15);\n",
              "      fill: #174EA6;\n",
              "    }\n",
              "\n",
              "    [theme=dark] .colab-df-convert {\n",
              "      background-color: #3B4455;\n",
              "      fill: #D2E3FC;\n",
              "    }\n",
              "\n",
              "    [theme=dark] .colab-df-convert:hover {\n",
              "      background-color: #434B5C;\n",
              "      box-shadow: 0px 1px 3px 1px rgba(0, 0, 0, 0.15);\n",
              "      filter: drop-shadow(0px 1px 2px rgba(0, 0, 0, 0.3));\n",
              "      fill: #FFFFFF;\n",
              "    }\n",
              "  </style>\n",
              "\n",
              "      <script>\n",
              "        const buttonEl =\n",
              "          document.querySelector('#df-b53839f8-f2ec-446e-93f9-98f5a2c8c4a0 button.colab-df-convert');\n",
              "        buttonEl.style.display =\n",
              "          google.colab.kernel.accessAllowed ? 'block' : 'none';\n",
              "\n",
              "        async function convertToInteractive(key) {\n",
              "          const element = document.querySelector('#df-b53839f8-f2ec-446e-93f9-98f5a2c8c4a0');\n",
              "          const dataTable =\n",
              "            await google.colab.kernel.invokeFunction('convertToInteractive',\n",
              "                                                     [key], {});\n",
              "          if (!dataTable) return;\n",
              "\n",
              "          const docLinkHtml = 'Like what you see? Visit the ' +\n",
              "            '<a target=\"_blank\" href=https://colab.research.google.com/notebooks/data_table.ipynb>data table notebook</a>'\n",
              "            + ' to learn more about interactive tables.';\n",
              "          element.innerHTML = '';\n",
              "          dataTable['output_type'] = 'display_data';\n",
              "          await google.colab.output.renderOutput(dataTable, element);\n",
              "          const docLink = document.createElement('div');\n",
              "          docLink.innerHTML = docLinkHtml;\n",
              "          element.appendChild(docLink);\n",
              "        }\n",
              "      </script>\n",
              "    </div>\n",
              "  </div>\n",
              "  "
            ]
          },
          "metadata": {},
          "execution_count": 62
        }
      ]
    },
    {
      "cell_type": "code",
      "source": [
        "df_char"
      ],
      "metadata": {
        "colab": {
          "base_uri": "https://localhost:8080/",
          "height": 424
        },
        "id": "BKqUfxjG44if",
        "outputId": "707fdd5b-86c1-4769-d048-90b7d7fb5dde"
      },
      "execution_count": null,
      "outputs": [
        {
          "output_type": "execute_result",
          "data": {
            "text/plain": [
              "       0        1\n",
              "0      4  student\n",
              "1    476  student\n",
              "2    481  student\n",
              "3    436    staff\n",
              "4    590  student\n",
              "..   ...      ...\n",
              "796  477    staff\n",
              "797   69  teacher\n",
              "798  406    staff\n",
              "799  185  student\n",
              "800  673    staff\n",
              "\n",
              "[801 rows x 2 columns]"
            ],
            "text/html": [
              "\n",
              "  <div id=\"df-a0f720e3-15e9-4da9-b1a3-ab74dfd63ae0\">\n",
              "    <div class=\"colab-df-container\">\n",
              "      <div>\n",
              "<style scoped>\n",
              "    .dataframe tbody tr th:only-of-type {\n",
              "        vertical-align: middle;\n",
              "    }\n",
              "\n",
              "    .dataframe tbody tr th {\n",
              "        vertical-align: top;\n",
              "    }\n",
              "\n",
              "    .dataframe thead th {\n",
              "        text-align: right;\n",
              "    }\n",
              "</style>\n",
              "<table border=\"1\" class=\"dataframe\">\n",
              "  <thead>\n",
              "    <tr style=\"text-align: right;\">\n",
              "      <th></th>\n",
              "      <th>0</th>\n",
              "      <th>1</th>\n",
              "    </tr>\n",
              "  </thead>\n",
              "  <tbody>\n",
              "    <tr>\n",
              "      <th>0</th>\n",
              "      <td>4</td>\n",
              "      <td>student</td>\n",
              "    </tr>\n",
              "    <tr>\n",
              "      <th>1</th>\n",
              "      <td>476</td>\n",
              "      <td>student</td>\n",
              "    </tr>\n",
              "    <tr>\n",
              "      <th>2</th>\n",
              "      <td>481</td>\n",
              "      <td>student</td>\n",
              "    </tr>\n",
              "    <tr>\n",
              "      <th>3</th>\n",
              "      <td>436</td>\n",
              "      <td>staff</td>\n",
              "    </tr>\n",
              "    <tr>\n",
              "      <th>4</th>\n",
              "      <td>590</td>\n",
              "      <td>student</td>\n",
              "    </tr>\n",
              "    <tr>\n",
              "      <th>...</th>\n",
              "      <td>...</td>\n",
              "      <td>...</td>\n",
              "    </tr>\n",
              "    <tr>\n",
              "      <th>796</th>\n",
              "      <td>477</td>\n",
              "      <td>staff</td>\n",
              "    </tr>\n",
              "    <tr>\n",
              "      <th>797</th>\n",
              "      <td>69</td>\n",
              "      <td>teacher</td>\n",
              "    </tr>\n",
              "    <tr>\n",
              "      <th>798</th>\n",
              "      <td>406</td>\n",
              "      <td>staff</td>\n",
              "    </tr>\n",
              "    <tr>\n",
              "      <th>799</th>\n",
              "      <td>185</td>\n",
              "      <td>student</td>\n",
              "    </tr>\n",
              "    <tr>\n",
              "      <th>800</th>\n",
              "      <td>673</td>\n",
              "      <td>staff</td>\n",
              "    </tr>\n",
              "  </tbody>\n",
              "</table>\n",
              "<p>801 rows × 2 columns</p>\n",
              "</div>\n",
              "      <button class=\"colab-df-convert\" onclick=\"convertToInteractive('df-a0f720e3-15e9-4da9-b1a3-ab74dfd63ae0')\"\n",
              "              title=\"Convert this dataframe to an interactive table.\"\n",
              "              style=\"display:none;\">\n",
              "        \n",
              "  <svg xmlns=\"http://www.w3.org/2000/svg\" height=\"24px\"viewBox=\"0 0 24 24\"\n",
              "       width=\"24px\">\n",
              "    <path d=\"M0 0h24v24H0V0z\" fill=\"none\"/>\n",
              "    <path d=\"M18.56 5.44l.94 2.06.94-2.06 2.06-.94-2.06-.94-.94-2.06-.94 2.06-2.06.94zm-11 1L8.5 8.5l.94-2.06 2.06-.94-2.06-.94L8.5 2.5l-.94 2.06-2.06.94zm10 10l.94 2.06.94-2.06 2.06-.94-2.06-.94-.94-2.06-.94 2.06-2.06.94z\"/><path d=\"M17.41 7.96l-1.37-1.37c-.4-.4-.92-.59-1.43-.59-.52 0-1.04.2-1.43.59L10.3 9.45l-7.72 7.72c-.78.78-.78 2.05 0 2.83L4 21.41c.39.39.9.59 1.41.59.51 0 1.02-.2 1.41-.59l7.78-7.78 2.81-2.81c.8-.78.8-2.07 0-2.86zM5.41 20L4 18.59l7.72-7.72 1.47 1.35L5.41 20z\"/>\n",
              "  </svg>\n",
              "      </button>\n",
              "      \n",
              "  <style>\n",
              "    .colab-df-container {\n",
              "      display:flex;\n",
              "      flex-wrap:wrap;\n",
              "      gap: 12px;\n",
              "    }\n",
              "\n",
              "    .colab-df-convert {\n",
              "      background-color: #E8F0FE;\n",
              "      border: none;\n",
              "      border-radius: 50%;\n",
              "      cursor: pointer;\n",
              "      display: none;\n",
              "      fill: #1967D2;\n",
              "      height: 32px;\n",
              "      padding: 0 0 0 0;\n",
              "      width: 32px;\n",
              "    }\n",
              "\n",
              "    .colab-df-convert:hover {\n",
              "      background-color: #E2EBFA;\n",
              "      box-shadow: 0px 1px 2px rgba(60, 64, 67, 0.3), 0px 1px 3px 1px rgba(60, 64, 67, 0.15);\n",
              "      fill: #174EA6;\n",
              "    }\n",
              "\n",
              "    [theme=dark] .colab-df-convert {\n",
              "      background-color: #3B4455;\n",
              "      fill: #D2E3FC;\n",
              "    }\n",
              "\n",
              "    [theme=dark] .colab-df-convert:hover {\n",
              "      background-color: #434B5C;\n",
              "      box-shadow: 0px 1px 3px 1px rgba(0, 0, 0, 0.15);\n",
              "      filter: drop-shadow(0px 1px 2px rgba(0, 0, 0, 0.3));\n",
              "      fill: #FFFFFF;\n",
              "    }\n",
              "  </style>\n",
              "\n",
              "      <script>\n",
              "        const buttonEl =\n",
              "          document.querySelector('#df-a0f720e3-15e9-4da9-b1a3-ab74dfd63ae0 button.colab-df-convert');\n",
              "        buttonEl.style.display =\n",
              "          google.colab.kernel.accessAllowed ? 'block' : 'none';\n",
              "\n",
              "        async function convertToInteractive(key) {\n",
              "          const element = document.querySelector('#df-a0f720e3-15e9-4da9-b1a3-ab74dfd63ae0');\n",
              "          const dataTable =\n",
              "            await google.colab.kernel.invokeFunction('convertToInteractive',\n",
              "                                                     [key], {});\n",
              "          if (!dataTable) return;\n",
              "\n",
              "          const docLinkHtml = 'Like what you see? Visit the ' +\n",
              "            '<a target=\"_blank\" href=https://colab.research.google.com/notebooks/data_table.ipynb>data table notebook</a>'\n",
              "            + ' to learn more about interactive tables.';\n",
              "          element.innerHTML = '';\n",
              "          dataTable['output_type'] = 'display_data';\n",
              "          await google.colab.output.renderOutput(dataTable, element);\n",
              "          const docLink = document.createElement('div');\n",
              "          docLink.innerHTML = docLinkHtml;\n",
              "          element.appendChild(docLink);\n",
              "        }\n",
              "      </script>\n",
              "    </div>\n",
              "  </div>\n",
              "  "
            ]
          },
          "metadata": {},
          "execution_count": 63
        }
      ]
    },
    {
      "cell_type": "code",
      "source": [
        "G_base = np.full((df_char.shape[0],df_char.shape[0]),0)\n",
        "\n",
        "for i in trange(df_inter.shape[0]):\n",
        "  G_base[df_inter[0][i]][df_inter[1][i]]+=df_inter[2][i]"
      ],
      "metadata": {
        "colab": {
          "base_uri": "https://localhost:8080/"
        },
        "id": "wa7_5f305ccr",
        "outputId": "b840e0fc-025c-432f-91c6-de42c7ebf74b"
      },
      "execution_count": null,
      "outputs": [
        {
          "output_type": "stream",
          "name": "stderr",
          "text": [
            "100%|██████████| 762868/762868 [00:17<00:00, 42437.06it/s]\n"
          ]
        }
      ]
    },
    {
      "cell_type": "code",
      "source": [
        "Same_num = 0\n",
        "\n",
        "for i in range(G_base.shape[0]):\n",
        "  for j in range(G_base.shape[1]):\n",
        "    if G_base[i][j]==G_base[j][i] and G_base[i][j]!=0:\n",
        "      # print(G_base[i][j],G_base[j][i])\n",
        "      Same_num+=1\n",
        "\n",
        "if Same_num == 0:\n",
        "  print(\"Can be Symetric\")\n",
        "else:\n",
        "  print(\"Can Not be Symetric\")"
      ],
      "metadata": {
        "id": "mr15jbBRHL5k",
        "colab": {
          "base_uri": "https://localhost:8080/"
        },
        "outputId": "af99d11d-e527-4285-eb0a-87f567fdff98"
      },
      "execution_count": null,
      "outputs": [
        {
          "output_type": "stream",
          "name": "stdout",
          "text": [
            "Can be Symetric\n"
          ]
        }
      ]
    },
    {
      "cell_type": "code",
      "source": [
        "# symmetrization\n",
        "\n",
        "if Same_num == 0:\n",
        "  for i in range(df_inter.shape[0]):\n",
        "    G_temp = max(G_base[df_inter[1][i]][df_inter[0][i]],G_base[df_inter[0][i]][df_inter[1][i]])\n",
        "    G_base[df_inter[1][i]][df_inter[0][i]] = G_temp\n",
        "    G_base[df_inter[0][i]][df_inter[1][i]] = G_temp"
      ],
      "metadata": {
        "id": "m1pIG0mY0v1u"
      },
      "execution_count": null,
      "outputs": []
    },
    {
      "cell_type": "code",
      "source": [
        "\"\"\"\n",
        " From https://www.nyc.gov/site/doh/covid/covid-19-data.page, by Case rate (7-day rate per 100,000 people), infection risk might be 0.0022558:\n",
        " From https://www.cdc.gov/coronavirus/2019-ncov/your-health/risks-exposure.html, exposure time threshold is 3min (contact threshold) and 15min (high risk threshold), and https://www.frontiersin.org/articles/10.3389/fmed.2021.664297/full shows longer exposure time could increase infection risk.\n",
        " We create an alpha function describing the coefficient of Ri_base according to the exposure time.\n",
        "\"\"\"\n",
        "def Alpha_rate(T, Ri_base=0.0022558):\n",
        "  MET = 3\n",
        "  LET = 15\n",
        "\n",
        "  alpha = 1 / (1+np.exp(-T+LET))+10 / (10+np.exp(-T+MET))\n",
        "  Ri = alpha * Ri_base\n",
        "  return Ri\n",
        "\n",
        "x = np.arange(0, 25, 0.1)\n",
        " \n",
        "y = Alpha_rate(x)\n",
        "\n",
        "plt.figure(figsize=(16, 8))\n",
        " \n",
        "plt.title(\"Alpha Function on Ri\")\n",
        "plt.ylabel(\"Risk of infection\")\n",
        "plt.xlabel(\"Exposure time/(min)\")\n",
        "plt.plot(x, y, label=\"risk\")\n",
        "plt.grid()\n",
        "\n",
        "plt.show()"
      ],
      "metadata": {
        "colab": {
          "base_uri": "https://localhost:8080/",
          "height": 513
        },
        "id": "hD5HTwayllUi",
        "outputId": "4a396d65-82ed-4202-8624-9488b7e14962"
      },
      "execution_count": null,
      "outputs": [
        {
          "output_type": "display_data",
          "data": {
            "text/plain": [
              "<Figure size 1152x576 with 1 Axes>"
            ],
            "image/png": "[encoded data removed]"
          },
          "metadata": {
            "needs_background": "light"
          }
        }
      ]
    },
    {
      "cell_type": "markdown",
      "source": [
        "#Grid Search"
      ],
      "metadata": {
        "id": "PoYAzBU1M8TT"
      }
    },
    {
      "cell_type": "code",
      "source": [
        "# Reset the patients status\n",
        "potential_list = np.where(sum(G_base)>0)[0]\n",
        "B_isolate = np.where(sum(G_base)==0)[0]\n",
        "T_list = np.where(sum(G_base)>=0)[0]\n",
        "\n",
        "sample_num = 1 \n",
        "\n",
        "sample_list = [i for i in range(len(potential_list))] \n",
        "patient_zero = random.sample(sample_list, sample_num)\n",
        "\n",
        "G_disease = np.full((1,df_char.shape[0]),0)[0]\n",
        "G_disease[patient_zero] = 1\n",
        "patient_list = np.where(G_disease>0)[0]\n",
        "\n",
        "print(patient_list)"
      ],
      "metadata": {
        "colab": {
          "base_uri": "https://localhost:8080/"
        },
        "id": "MgvxZYS4M4qN",
        "outputId": "0f5b970a-efa5-49ae-e8f3-a5d03b2e7c3b"
      },
      "execution_count": null,
      "outputs": [
        {
          "output_type": "stream",
          "name": "stdout",
          "text": [
            "[654]\n"
          ]
        }
      ]
    },
    {
      "cell_type": "code",
      "source": [
        "# Covid-19 simulating without isolating\n",
        "TIME = 30 #Days\n",
        "patients_num = len(patient_list)\n",
        "print(\"Start simulating, Day 0, we have patients:\", patients_num)\n",
        "\n",
        "for days in trange(TIME):\n",
        "  G_contact = np.full(G_base.shape,0)\n",
        "  for p in potential_list:\n",
        "    # \n",
        "    for op in potential_list:\n",
        "      if (op>=p):\n",
        "        t_interaction = np.random.normal(loc=G_base[p][op], scale=1) * 20/60\n",
        "        t_interaction = max(0,t_interaction)\n",
        "        if (np.where(patient_list == p)[0].size > 0):\n",
        "          if (np.random.random() <= Alpha_rate(t_interaction) and G_disease[op] == 0):\n",
        "            G_disease[op] = 1\n",
        "        elif (np.where(patient_list == op)[0].size > 0):\n",
        "          if (np.random.random() <= Alpha_rate(t_interaction) and G_disease[p] == 0):\n",
        "            G_disease[p] = 1\n",
        "  \n",
        "  for p in range(len(G_disease)):\n",
        "    if G_disease[p] > 0:\n",
        "      G_disease[p] += 1\n",
        "  patient_list = np.where(G_disease>0)[0]\n",
        "  \n",
        "  print('Day {}: we have {} patients, {} cases of new patients'.format(days+1,len(patient_list), len(patient_list)-patients_num) )\n",
        "  patients_num = len(patient_list)\n",
        "\n",
        "  if len(patient_list) == len(potential_list):\n",
        "    print(\"Everybody in potential list got sick!\")\n",
        "    break"
      ],
      "metadata": {
        "colab": {
          "base_uri": "https://localhost:8080/"
        },
        "outputId": "66582077-5d63-4610-a307-ef0486063a65",
        "id": "D2tzi0N_SfZf"
      },
      "execution_count": null,
      "outputs": [
        {
          "output_type": "stream",
          "name": "stdout",
          "text": [
            "Start simulating, Day 0, we have patients: 1\n"
          ]
        },
        {
          "output_type": "stream",
          "name": "stderr",
          "text": [
            "  3%|▎         | 1/30 [00:03<01:37,  3.37s/it]"
          ]
        },
        {
          "output_type": "stream",
          "name": "stdout",
          "text": [
            "Day 1: we have 1 patients, 0 cases of new patients\n"
          ]
        },
        {
          "output_type": "stream",
          "name": "stderr",
          "text": [
            "\r  7%|▋         | 2/30 [00:06<01:33,  3.35s/it]"
          ]
        },
        {
          "output_type": "stream",
          "name": "stdout",
          "text": [
            "Day 2: we have 4 patients, 3 cases of new patients\n"
          ]
        },
        {
          "output_type": "stream",
          "name": "stderr",
          "text": [
            "\r 10%|█         | 3/30 [00:10<01:31,  3.39s/it]"
          ]
        },
        {
          "output_type": "stream",
          "name": "stdout",
          "text": [
            "Day 3: we have 8 patients, 4 cases of new patients\n"
          ]
        },
        {
          "output_type": "stream",
          "name": "stderr",
          "text": [
            "\r 13%|█▎        | 4/30 [00:13<01:29,  3.43s/it]"
          ]
        },
        {
          "output_type": "stream",
          "name": "stdout",
          "text": [
            "Day 4: we have 13 patients, 5 cases of new patients\n"
          ]
        },
        {
          "output_type": "stream",
          "name": "stderr",
          "text": [
            "\r 17%|█▋        | 5/30 [00:17<01:26,  3.45s/it]"
          ]
        },
        {
          "output_type": "stream",
          "name": "stdout",
          "text": [
            "Day 5: we have 29 patients, 16 cases of new patients\n"
          ]
        },
        {
          "output_type": "stream",
          "name": "stderr",
          "text": [
            "\r 20%|██        | 6/30 [00:20<01:23,  3.47s/it]"
          ]
        },
        {
          "output_type": "stream",
          "name": "stdout",
          "text": [
            "Day 6: we have 60 patients, 31 cases of new patients\n"
          ]
        },
        {
          "output_type": "stream",
          "name": "stderr",
          "text": [
            "\r 23%|██▎       | 7/30 [00:24<01:20,  3.51s/it]"
          ]
        },
        {
          "output_type": "stream",
          "name": "stdout",
          "text": [
            "Day 7: we have 116 patients, 56 cases of new patients\n"
          ]
        },
        {
          "output_type": "stream",
          "name": "stderr",
          "text": [
            "\r 27%|██▋       | 8/30 [00:28<01:19,  3.63s/it]"
          ]
        },
        {
          "output_type": "stream",
          "name": "stdout",
          "text": [
            "Day 8: we have 202 patients, 86 cases of new patients\n"
          ]
        },
        {
          "output_type": "stream",
          "name": "stderr",
          "text": [
            "\r 30%|███       | 9/30 [00:32<01:19,  3.78s/it]"
          ]
        },
        {
          "output_type": "stream",
          "name": "stdout",
          "text": [
            "Day 9: we have 325 patients, 123 cases of new patients\n"
          ]
        },
        {
          "output_type": "stream",
          "name": "stderr",
          "text": [
            "\r 33%|███▎      | 10/30 [00:36<01:20,  4.04s/it]"
          ]
        },
        {
          "output_type": "stream",
          "name": "stdout",
          "text": [
            "Day 10: we have 464 patients, 139 cases of new patients\n"
          ]
        },
        {
          "output_type": "stream",
          "name": "stderr",
          "text": [
            "\r 37%|███▋      | 11/30 [00:42<01:23,  4.40s/it]"
          ]
        },
        {
          "output_type": "stream",
          "name": "stdout",
          "text": [
            "Day 11: we have 593 patients, 129 cases of new patients\n"
          ]
        },
        {
          "output_type": "stream",
          "name": "stderr",
          "text": [
            "\r 40%|████      | 12/30 [00:46<01:20,  4.49s/it]"
          ]
        },
        {
          "output_type": "stream",
          "name": "stdout",
          "text": [
            "Day 12: we have 689 patients, 96 cases of new patients\n"
          ]
        },
        {
          "output_type": "stream",
          "name": "stderr",
          "text": [
            "\r 43%|████▎     | 13/30 [00:51<01:18,  4.60s/it]"
          ]
        },
        {
          "output_type": "stream",
          "name": "stdout",
          "text": [
            "Day 13: we have 744 patients, 55 cases of new patients\n"
          ]
        },
        {
          "output_type": "stream",
          "name": "stderr",
          "text": [
            "\r 47%|████▋     | 14/30 [00:56<01:13,  4.58s/it]"
          ]
        },
        {
          "output_type": "stream",
          "name": "stdout",
          "text": [
            "Day 14: we have 769 patients, 25 cases of new patients\n"
          ]
        },
        {
          "output_type": "stream",
          "name": "stderr",
          "text": [
            "\r 50%|█████     | 15/30 [01:00<01:08,  4.56s/it]"
          ]
        },
        {
          "output_type": "stream",
          "name": "stdout",
          "text": [
            "Day 15: we have 780 patients, 11 cases of new patients\n"
          ]
        },
        {
          "output_type": "stream",
          "name": "stderr",
          "text": [
            "\r 53%|█████▎    | 16/30 [01:05<01:03,  4.56s/it]"
          ]
        },
        {
          "output_type": "stream",
          "name": "stdout",
          "text": [
            "Day 16: we have 784 patients, 4 cases of new patients\n"
          ]
        },
        {
          "output_type": "stream",
          "name": "stderr",
          "text": [
            "\r 53%|█████▎    | 16/30 [01:09<01:01,  4.36s/it]"
          ]
        },
        {
          "output_type": "stream",
          "name": "stdout",
          "text": [
            "Day 17: we have 788 patients, 4 cases of new patients\n",
            "Everybody in potential list got sick!\n"
          ]
        },
        {
          "output_type": "stream",
          "name": "stderr",
          "text": [
            "\n"
          ]
        }
      ]
    },
    {
      "cell_type": "code",
      "source": [
        "# Sampling Graph Data\n",
        "Sample_size = 50\n",
        "G_contacts = []\n",
        "\n",
        "for s in trange(Sample_size):\n",
        "  G_contact = np.full(G_base.shape,0)\n",
        "  for p in potential_list:\n",
        "    # \n",
        "    for op in potential_list:\n",
        "      if (op>=p):\n",
        "        t_interaction = np.random.normal(loc=G_base[p][op], scale=1) * 20/60\n",
        "        t_interaction = max(0,t_interaction)\n",
        "        if (p==op):\n",
        "          G_contact[p][op] = 1\n",
        "        elif t_interaction >= 3:\n",
        "          G_contact[p][op] = 1\n",
        "          G_contact[op][p] = 1\n",
        "  G_contacts.append(G_contact)"
      ],
      "metadata": {
        "colab": {
          "base_uri": "https://localhost:8080/"
        },
        "id": "dAGOFyY8NBc8",
        "outputId": "75688e8f-689c-47da-fcac-5e5a208f8d31"
      },
      "execution_count": null,
      "outputs": [
        {
          "output_type": "stream",
          "name": "stderr",
          "text": [
            "100%|██████████| 50/50 [01:21<00:00,  1.63s/it]\n"
          ]
        }
      ]
    },
    {
      "cell_type": "code",
      "source": [
        "G_1 = G_contacts[0:int(len(G_contacts)/2)]\n",
        "G_2 = G_contacts[int(len(G_contacts)/2):int(len(G_contacts)/2)*2]\n",
        "\n",
        "def E_rc(G1,G2,I,J):\n",
        "  ck_hat = 0\n",
        "  rk_hat = 0\n",
        "\n",
        "  for i in range(G1[0].shape[0]):\n",
        "    ck1 = 0\n",
        "    ck2 = 0\n",
        "    rk1 = 0\n",
        "    rk2 = 0\n",
        "    for g in range(len(G1)): \n",
        "      if i != I:\n",
        "        ck1 += G1[g][i][I]\n",
        "        rk1 += G1[g][I][i]\n",
        "      if i != J:\n",
        "        ck2 += G2[g][i][J]\n",
        "        rk2 += G2[g][J][i]\n",
        "    ck_hat += ck1 * ck2\n",
        "    rk_hat += rk1 * rk2\n",
        "  \n",
        "  return ck_hat/(len(G1)**2*(len(np.delete(T_list, [I,J])))),rk_hat/(len(G1)**2*(len(np.delete(T_list, [I,J]))))"
      ],
      "metadata": {
        "id": "AK2gUgzFNTQG"
      },
      "execution_count": null,
      "outputs": []
    },
    {
      "cell_type": "code",
      "source": [
        "def Blocking(B_isolate, patient_list, G_1, G_2, Delta=0.43, Block_max=50, gama=0.01):  \n",
        "  # Reset Blocking\n",
        "  Delta_squre = Delta ** 2\n",
        "  patient_list_copy = patient_list\n",
        "  Blocks = []\n",
        "  Blocks_delta = []\n",
        "  Blocks.append(B_isolate)\n",
        "  Blocks_delta.append(0)\n",
        "\n",
        "  while(len(patient_list_copy)>0):\n",
        "    sample_list = [i for i in patient_list_copy] \n",
        "    pivot = random.sample(sample_list, 1)[0]\n",
        "    B_temp = []\n",
        "    # B_temp.append(pivot)\n",
        "    # patient_list_copy = np.delete(patient_list_copy, np.where(patient_list_copy == B_temp)[0])\n",
        "    for j in patient_list_copy:\n",
        "      c_ij, r_ij = E_rc(G_1,G_2,pivot,j)\n",
        "      c_ii, r_ii = E_rc(G_1,G_2,pivot,pivot)\n",
        "      c_jj, r_jj = E_rc(G_1,G_2,j,j)\n",
        "      d_ij = ( (r_ii-2*r_ij+r_jj)+(c_ii-2*c_ij+c_jj) )/2\n",
        "      if d_ij<=Delta_squre:\n",
        "        B_temp.append(j)\n",
        "    for i in B_temp:\n",
        "      patient_list_copy = np.delete(patient_list_copy, np.where(patient_list_copy == i)[0])\n",
        "    Blocks.append(np.array(B_temp))\n",
        "    Blocks_delta.append(Delta)\n",
        "    # print('Blocks num {}, remaining nodes {}'.format(len(Blocks),len(patient_list_copy)))\n",
        "    # break\n",
        "\n",
        "  while(True):\n",
        "    Delta -= gama\n",
        "    for b in range(len(Blocks)):\n",
        "      if len(Blocks[b]) >= Block_max:\n",
        "        Delta_squre = Delta ** 2\n",
        "        patient_list_copy = Blocks[b]\n",
        "        while(len(patient_list_copy)>Block_max):\n",
        "          sample_list = [i for i in patient_list_copy] \n",
        "          pivot = random.sample(sample_list, 1)[0]\n",
        "          B_temp = []\n",
        "          # B_temp.append(pivot)\n",
        "          # patient_list_copy = np.delete(patient_list_copy, np.where(patient_list_copy == B_temp)[0])\n",
        "          for j in patient_list_copy:\n",
        "            c_ij, r_ij = E_rc(G_1,G_2,pivot,j)\n",
        "            c_ii, r_ii = E_rc(G_1,G_2,pivot,pivot)\n",
        "            c_jj, r_jj = E_rc(G_1,G_2,j,j)\n",
        "            d_ij = ( (r_ii-2*r_ij+r_jj)+(c_ii-2*c_ij+c_jj) )/2\n",
        "            if d_ij<=Delta_squre:\n",
        "              B_temp.append(j)\n",
        "          for i in B_temp:\n",
        "            patient_list_copy = np.delete(patient_list_copy, np.where(patient_list_copy == i)[0])\n",
        "          Blocks.append(np.array(B_temp))\n",
        "          Blocks_delta.append(Delta)\n",
        "          # print('Dividing Huge Blocks uses delta={:.2f} ... Blocks num {}, remaining nodes in divided block {}'.format(Delta,len(Blocks),len(patient_list_copy)))\n",
        "        if len(patient_list_copy) == 0:\n",
        "          Blocks.pop(b)\n",
        "          Blocks_delta.pop(b)\n",
        "        else:\n",
        "          Blocks[b] = patient_list_copy\n",
        "\n",
        "    \n",
        "    if all([len(Blocks[b]) <= Block_max for b in range(len(Blocks))]):\n",
        "      print(\"Finish Blocking!\")\n",
        "      break\n",
        "  \n",
        "  return Blocks"
      ],
      "metadata": {
        "id": "0txq6Z5HOVuG"
      },
      "execution_count": null,
      "outputs": []
    },
    {
      "cell_type": "code",
      "source": [
        "simulate_num = 30\n",
        "iteration_num = 10\n",
        "total_days = []\n",
        "patient_population = []\n",
        "isolated_population = []\n",
        "\n",
        "for block_size in trange(25,80,5):\n",
        "  total_days_inter = []\n",
        "  patient_population_inter = []\n",
        "  isolated_population_inter = []\n",
        "  for iteration in trange(iteration_num):\n",
        "    Blocks = Blocking(B_isolate, patient_list, G_1, G_2, Delta=0.43, Block_max=block_size, gama=0.01)\n",
        "    # Reset the patients status\n",
        "    G_disease_ib = np.full((1,df_char.shape[0]),0)[0]\n",
        "    G_disease_ib[patient_zero] = 1\n",
        "    patient_list_ib = np.where(G_disease_ib>0)[0]\n",
        "    isolate_list_b = []\n",
        "    potential_list_ib = potential_list\n",
        "    Block_list = np.array(list(range(len(Blocks))))\n",
        "    latency = 4\n",
        "\n",
        "    # Covid-19 simulating with blockwise isolating\n",
        "    TIME = 30 #Days\n",
        "    patients_num = len(patient_list_ib)\n",
        "    print(\"Start simulating, Day 0, we have patients:\", patients_num)\n",
        "\n",
        "    for days in range(TIME):\n",
        "      for p in potential_list_ib:\n",
        "        # if (np.where(isolate_list_b == p)[0].size == 0):\n",
        "          for op in potential_list_ib:\n",
        "            # if (np.where(isolate_list_b == op)[0].size == 0) and (op>=p):\n",
        "            if (op>=p):\n",
        "              if (np.where(patient_list_ib == p)[0].size > 0):\n",
        "                t_interaction = np.random.normal(loc=G_base[p][op], scale=1) * 20/60\n",
        "                t_interaction = max(0,t_interaction)  \n",
        "                if (np.random.random() <= Alpha_rate(t_interaction) and G_disease_ib[op] == 0):\n",
        "                  G_disease_ib[op] = 1\n",
        "              elif (np.where(patient_list_ib == op)[0].size > 0):\n",
        "                t_interaction = np.random.normal(loc=G_base[p][op], scale=1) * 20/60\n",
        "                t_interaction = max(0,t_interaction)\n",
        "                if (np.random.random() <= Alpha_rate(t_interaction) and G_disease_ib[p] == 0):\n",
        "                  G_disease_ib[p] = 1\n",
        "\n",
        "      for p in range(len(G_disease_ib)):\n",
        "        if G_disease_ib[p] > 0:\n",
        "          G_disease_ib[p] += 1\n",
        "        if (G_disease_ib[p] >= latency) and (np.where(np.array(isolate_list_b) == p)[0].size == 0):\n",
        "          isolate_list_b.append(p)\n",
        "          for b in Block_list:\n",
        "            if np.where(Blocks[b] == p)[0].size >0:\n",
        "              isolate_list_b.extend(Blocks[b].tolist())\n",
        "              Block_list = np.delete(Block_list, np.where(Block_list == b)[0])\n",
        "              break\n",
        "      patient_list_ib = np.where(G_disease_ib>0)[0]\n",
        "      # print(isolate_list_b)\n",
        "      for i in isolate_list_b:\n",
        "        potential_list_ib = np.delete(potential_list_ib, np.where(potential_list_ib == i)[0])\n",
        "      \n",
        "      # print('Day {}: we have {} patients, {} cases of new patients, {} isolated patients'.format(days+1,len(patient_list_ib), len(patient_list_ib)-patients_num, len(isolate_list_b)))\n",
        "      patients_num = len(patient_list_ib)\n",
        "\n",
        "      if len(patient_list_ib) == len(potential_list):\n",
        "        print(\"Everybody in potential list got sick!\")\n",
        "        total_days_inter.append(days+1)\n",
        "        patient_population_inter.append(len(patient_list_ib))\n",
        "        isolated_population_inter.append(len(isolate_list_b))\n",
        "        break\n",
        "\n",
        "      if set(patient_list_ib).issubset(isolate_list_b):\n",
        "        print(\"Every patients are isolated!\")\n",
        "        total_days_inter.append(days+1)\n",
        "        patient_population_inter.append(len(patient_list_ib))\n",
        "        isolated_population_inter.append(len(isolate_list_b))\n",
        "        break\n",
        "    np.save('total_days_inter.npy',total_days_inter)\n",
        "    np.save('patient_population_inter.npy',patient_population_inter)\n",
        "    np.save('isolated_population_inter',isolated_population_inter)\n",
        "\n",
        "  total_days.append(total_days_inter)\n",
        "  patient_population.append(patient_population_inter)\n",
        "  isolated_population.append(isolated_population_inter)\n",
        "  np.save('total_days.npy',total_days)\n",
        "  np.save('patient_population.npy',patient_population)\n",
        "  np.save('isolated_population',isolated_population)\n",
        "  \n",
        "  "
      ],
      "metadata": {
        "colab": {
          "base_uri": "https://localhost:8080/",
          "height": 594
        },
        "id": "1T3q460CPdzs",
        "outputId": "18a2b06e-849d-42f7-f727-9ba6b9f4633f"
      },
      "execution_count": null,
      "outputs": [
        {
          "output_type": "stream",
          "name": "stderr",
          "text": [
            "  0%|          | 0/11 [00:00<?, ?it/s]\n",
            "  0%|          | 0/10 [00:00<?, ?it/s]\u001b[A"
          ]
        },
        {
          "output_type": "stream",
          "name": "stdout",
          "text": [
            "Finish Blocking!\n",
            "Start simulating, Day 0, we have patients: 1\n"
          ]
        },
        {
          "output_type": "stream",
          "name": "stderr",
          "text": [
            "\n",
            " 10%|█         | 1/10 [16:46<2:31:00, 1006.68s/it]\u001b[A"
          ]
        },
        {
          "output_type": "stream",
          "name": "stdout",
          "text": [
            "Every patients are isolated!\n",
            "Finish Blocking!\n",
            "Start simulating, Day 0, we have patients: 1\n"
          ]
        },
        {
          "output_type": "stream",
          "name": "stderr",
          "text": [
            "\n",
            " 20%|██        | 2/10 [36:47<2:29:27, 1120.94s/it]\u001b[A"
          ]
        },
        {
          "output_type": "stream",
          "name": "stdout",
          "text": [
            "Every patients are isolated!\n"
          ]
        },
        {
          "output_type": "stream",
          "name": "stderr",
          "text": [
            " 20%|██        | 2/10 [40:45<2:43:03, 1222.97s/it]\n",
            "  0%|          | 0/11 [40:45<?, ?it/s]\n"
          ]
        },
        {
          "output_type": "error",
          "ename": "KeyboardInterrupt",
          "evalue": "ignored",
          "traceback": [
            "\u001b[0;31m---------------------------------------------------------------------------\u001b[0m",
            "\u001b[0;31mKeyboardInterrupt\u001b[0m                         Traceback (most recent call last)",
            "\u001b[0;32m<ipython-input-74-48514ccbabcd>\u001b[0m in \u001b[0;36m<module>\u001b[0;34m\u001b[0m\n\u001b[1;32m     10\u001b[0m   \u001b[0misolated_population_inter\u001b[0m \u001b[0;34m=\u001b[0m \u001b[0;34m[\u001b[0m\u001b[0;34m]\u001b[0m\u001b[0;34m\u001b[0m\u001b[0;34m\u001b[0m\u001b[0m\n\u001b[1;32m     11\u001b[0m   \u001b[0;32mfor\u001b[0m \u001b[0miteration\u001b[0m \u001b[0;32min\u001b[0m \u001b[0mtrange\u001b[0m\u001b[0;34m(\u001b[0m\u001b[0miteration_num\u001b[0m\u001b[0;34m)\u001b[0m\u001b[0;34m:\u001b[0m\u001b[0;34m\u001b[0m\u001b[0;34m\u001b[0m\u001b[0m\n\u001b[0;32m---> 12\u001b[0;31m     \u001b[0mBlocks\u001b[0m \u001b[0;34m=\u001b[0m \u001b[0mBlocking\u001b[0m\u001b[0;34m(\u001b[0m\u001b[0mB_isolate\u001b[0m\u001b[0;34m,\u001b[0m \u001b[0mpatient_list\u001b[0m\u001b[0;34m,\u001b[0m \u001b[0mG_1\u001b[0m\u001b[0;34m,\u001b[0m \u001b[0mG_2\u001b[0m\u001b[0;34m,\u001b[0m \u001b[0mDelta\u001b[0m\u001b[0;34m=\u001b[0m\u001b[0;36m0.43\u001b[0m\u001b[0;34m,\u001b[0m \u001b[0mBlock_max\u001b[0m\u001b[0;34m=\u001b[0m\u001b[0mblock_size\u001b[0m\u001b[0;34m,\u001b[0m \u001b[0mgama\u001b[0m\u001b[0;34m=\u001b[0m\u001b[0;36m0.01\u001b[0m\u001b[0;34m)\u001b[0m\u001b[0;34m\u001b[0m\u001b[0;34m\u001b[0m\u001b[0m\n\u001b[0m\u001b[1;32m     13\u001b[0m     \u001b[0;31m# Reset the patients status\u001b[0m\u001b[0;34m\u001b[0m\u001b[0;34m\u001b[0m\u001b[0;34m\u001b[0m\u001b[0m\n\u001b[1;32m     14\u001b[0m     \u001b[0mG_disease_ib\u001b[0m \u001b[0;34m=\u001b[0m \u001b[0mnp\u001b[0m\u001b[0;34m.\u001b[0m\u001b[0mfull\u001b[0m\u001b[0;34m(\u001b[0m\u001b[0;34m(\u001b[0m\u001b[0;36m1\u001b[0m\u001b[0;34m,\u001b[0m\u001b[0mdf_char\u001b[0m\u001b[0;34m.\u001b[0m\u001b[0mshape\u001b[0m\u001b[0;34m[\u001b[0m\u001b[0;36m0\u001b[0m\u001b[0;34m]\u001b[0m\u001b[0;34m)\u001b[0m\u001b[0;34m,\u001b[0m\u001b[0;36m0\u001b[0m\u001b[0;34m)\u001b[0m\u001b[0;34m[\u001b[0m\u001b[0;36m0\u001b[0m\u001b[0;34m]\u001b[0m\u001b[0;34m\u001b[0m\u001b[0;34m\u001b[0m\u001b[0m\n",
            "\u001b[0;32m<ipython-input-72-f2e83c964a8e>\u001b[0m in \u001b[0;36mBlocking\u001b[0;34m(B_isolate, patient_list, G_1, G_2, Delta, Block_max, gama)\u001b[0m\n\u001b[1;32m     45\u001b[0m           \u001b[0;31m# patient_list_copy = np.delete(patient_list_copy, np.where(patient_list_copy == B_temp)[0])\u001b[0m\u001b[0;34m\u001b[0m\u001b[0;34m\u001b[0m\u001b[0;34m\u001b[0m\u001b[0m\n\u001b[1;32m     46\u001b[0m           \u001b[0;32mfor\u001b[0m \u001b[0mj\u001b[0m \u001b[0;32min\u001b[0m \u001b[0mpatient_list_copy\u001b[0m\u001b[0;34m:\u001b[0m\u001b[0;34m\u001b[0m\u001b[0;34m\u001b[0m\u001b[0m\n\u001b[0;32m---> 47\u001b[0;31m             \u001b[0mc_ij\u001b[0m\u001b[0;34m,\u001b[0m \u001b[0mr_ij\u001b[0m \u001b[0;34m=\u001b[0m \u001b[0mE_rc\u001b[0m\u001b[0;34m(\u001b[0m\u001b[0mG_1\u001b[0m\u001b[0;34m,\u001b[0m\u001b[0mG_2\u001b[0m\u001b[0;34m,\u001b[0m\u001b[0mpivot\u001b[0m\u001b[0;34m,\u001b[0m\u001b[0mj\u001b[0m\u001b[0;34m)\u001b[0m\u001b[0;34m\u001b[0m\u001b[0;34m\u001b[0m\u001b[0m\n\u001b[0m\u001b[1;32m     48\u001b[0m             \u001b[0mc_ii\u001b[0m\u001b[0;34m,\u001b[0m \u001b[0mr_ii\u001b[0m \u001b[0;34m=\u001b[0m \u001b[0mE_rc\u001b[0m\u001b[0;34m(\u001b[0m\u001b[0mG_1\u001b[0m\u001b[0;34m,\u001b[0m\u001b[0mG_2\u001b[0m\u001b[0;34m,\u001b[0m\u001b[0mpivot\u001b[0m\u001b[0;34m,\u001b[0m\u001b[0mpivot\u001b[0m\u001b[0;34m)\u001b[0m\u001b[0;34m\u001b[0m\u001b[0;34m\u001b[0m\u001b[0m\n\u001b[1;32m     49\u001b[0m             \u001b[0mc_jj\u001b[0m\u001b[0;34m,\u001b[0m \u001b[0mr_jj\u001b[0m \u001b[0;34m=\u001b[0m \u001b[0mE_rc\u001b[0m\u001b[0;34m(\u001b[0m\u001b[0mG_1\u001b[0m\u001b[0;34m,\u001b[0m\u001b[0mG_2\u001b[0m\u001b[0;34m,\u001b[0m\u001b[0mj\u001b[0m\u001b[0;34m,\u001b[0m\u001b[0mj\u001b[0m\u001b[0;34m)\u001b[0m\u001b[0;34m\u001b[0m\u001b[0;34m\u001b[0m\u001b[0m\n",
            "\u001b[0;32m<ipython-input-71-f4f9d98b0b6c>\u001b[0m in \u001b[0;36mE_rc\u001b[0;34m(G1, G2, I, J)\u001b[0m\n\u001b[1;32m     14\u001b[0m       \u001b[0;32mif\u001b[0m \u001b[0mi\u001b[0m \u001b[0;34m!=\u001b[0m \u001b[0mI\u001b[0m\u001b[0;34m:\u001b[0m\u001b[0;34m\u001b[0m\u001b[0;34m\u001b[0m\u001b[0m\n\u001b[1;32m     15\u001b[0m         \u001b[0mck1\u001b[0m \u001b[0;34m+=\u001b[0m \u001b[0mG1\u001b[0m\u001b[0;34m[\u001b[0m\u001b[0mg\u001b[0m\u001b[0;34m]\u001b[0m\u001b[0;34m[\u001b[0m\u001b[0mi\u001b[0m\u001b[0;34m]\u001b[0m\u001b[0;34m[\u001b[0m\u001b[0mI\u001b[0m\u001b[0;34m]\u001b[0m\u001b[0;34m\u001b[0m\u001b[0;34m\u001b[0m\u001b[0m\n\u001b[0;32m---> 16\u001b[0;31m         \u001b[0mrk1\u001b[0m \u001b[0;34m+=\u001b[0m \u001b[0mG1\u001b[0m\u001b[0;34m[\u001b[0m\u001b[0mg\u001b[0m\u001b[0;34m]\u001b[0m\u001b[0;34m[\u001b[0m\u001b[0mI\u001b[0m\u001b[0;34m]\u001b[0m\u001b[0;34m[\u001b[0m\u001b[0mi\u001b[0m\u001b[0;34m]\u001b[0m\u001b[0;34m\u001b[0m\u001b[0;34m\u001b[0m\u001b[0m\n\u001b[0m\u001b[1;32m     17\u001b[0m       \u001b[0;32mif\u001b[0m \u001b[0mi\u001b[0m \u001b[0;34m!=\u001b[0m \u001b[0mJ\u001b[0m\u001b[0;34m:\u001b[0m\u001b[0;34m\u001b[0m\u001b[0;34m\u001b[0m\u001b[0m\n\u001b[1;32m     18\u001b[0m         \u001b[0mck2\u001b[0m \u001b[0;34m+=\u001b[0m \u001b[0mG2\u001b[0m\u001b[0;34m[\u001b[0m\u001b[0mg\u001b[0m\u001b[0;34m]\u001b[0m\u001b[0;34m[\u001b[0m\u001b[0mi\u001b[0m\u001b[0;34m]\u001b[0m\u001b[0;34m[\u001b[0m\u001b[0mJ\u001b[0m\u001b[0;34m]\u001b[0m\u001b[0;34m\u001b[0m\u001b[0;34m\u001b[0m\u001b[0m\n",
            "\u001b[0;31mKeyboardInterrupt\u001b[0m: "
          ]
        }
      ]
    },
    {
      "cell_type": "markdown",
      "source": [
        "#Comparison Experiments"
      ],
      "metadata": {
        "id": "eTvvYa1_M2s6"
      }
    },
    {
      "cell_type": "markdown",
      "source": [
        "##Pre-processing"
      ],
      "metadata": {
        "id": "lZcSgvYpNaVV"
      }
    },
    {
      "cell_type": "code",
      "source": [
        "# Reset the patients status\n",
        "potential_list = np.where(sum(G_base)>0)[0]\n",
        "B_isolate = np.where(sum(G_base)==0)[0]\n",
        "T_list = np.where(sum(G_base)>=0)[0]\n",
        "\n",
        "sample_num = 1 \n",
        "sample_list = [i for i in range(len(potential_list))] \n",
        "patient_zero = random.sample(sample_list, sample_num)\n",
        "\n",
        "G_disease = np.full((1,df_char.shape[0]),0)[0]\n",
        "G_disease[patient_zero] = 1\n",
        "patient_list = np.where(G_disease>0)[0]\n",
        "\n",
        "print(patient_list)"
      ],
      "metadata": {
        "colab": {
          "base_uri": "https://localhost:8080/"
        },
        "id": "s5QiWa7w43bp",
        "outputId": "f020f269-2686-4a58-f475-af097feda197"
      },
      "execution_count": null,
      "outputs": [
        {
          "output_type": "stream",
          "name": "stdout",
          "text": [
            "[538]\n"
          ]
        }
      ]
    },
    {
      "cell_type": "code",
      "source": [
        "len(potential_list)"
      ],
      "metadata": {
        "colab": {
          "base_uri": "https://localhost:8080/"
        },
        "id": "4IlS-1VpB8rP",
        "outputId": "d3b7bf2f-abbc-4c60-fd09-2340174b6357"
      },
      "execution_count": null,
      "outputs": [
        {
          "output_type": "execute_result",
          "data": {
            "text/plain": [
              "788"
            ]
          },
          "metadata": {},
          "execution_count": 9
        }
      ]
    },
    {
      "cell_type": "code",
      "source": [
        "# # Contact Graph generating\n",
        "\n",
        "# from tqdm import tqdm, trange\n",
        "\n",
        "# for i in trange(3):\n",
        "#   G_contact = np.full(G_base.shape,0)"
      ],
      "metadata": {
        "id": "VNgDIG_ggqY_"
      },
      "execution_count": null,
      "outputs": []
    },
    {
      "cell_type": "code",
      "source": [
        "# Covid-19 simulating without isolating\n",
        "TIME = 30 #Days\n",
        "patients_num = len(patient_list)\n",
        "print(\"Start simulating, Day 0, we have patients:\", patients_num)\n",
        "\n",
        "for days in trange(TIME):\n",
        "  G_contact = np.full(G_base.shape,0)\n",
        "  for p in potential_list:\n",
        "    # \n",
        "    for op in potential_list:\n",
        "      if (op>=p):\n",
        "        t_interaction = np.random.normal(loc=G_base[p][op], scale=1) * 20/60\n",
        "        t_interaction = max(0,t_interaction)\n",
        "        if (np.where(patient_list == p)[0].size > 0):\n",
        "          if (np.random.random() <= Alpha_rate(t_interaction) and G_disease[op] == 0):\n",
        "            G_disease[op] = 1\n",
        "        elif (np.where(patient_list == op)[0].size > 0):\n",
        "          if (np.random.random() <= Alpha_rate(t_interaction) and G_disease[p] == 0):\n",
        "            G_disease[p] = 1\n",
        "  \n",
        "  for p in range(len(G_disease)):\n",
        "    if G_disease[p] > 0:\n",
        "      G_disease[p] += 1\n",
        "  patient_list = np.where(G_disease>0)[0]\n",
        "  \n",
        "  print('Day {}: we have {} patients, {} cases of new patients'.format(days+1,len(patient_list), len(patient_list)-patients_num) )\n",
        "  patients_num = len(patient_list)\n",
        "\n",
        "  if len(patient_list) == len(potential_list):\n",
        "    print(\"Everybody in potential list got sick!\")\n",
        "    break"
      ],
      "metadata": {
        "colab": {
          "base_uri": "https://localhost:8080/"
        },
        "id": "CetwbrCqVSu4",
        "outputId": "a6bf47b3-0fcf-4dac-f2ce-da04f78c40ca"
      },
      "execution_count": null,
      "outputs": [
        {
          "output_type": "stream",
          "name": "stdout",
          "text": [
            "Start simulating, Day 0, we have patients: 1\n"
          ]
        },
        {
          "output_type": "stream",
          "name": "stderr",
          "text": [
            "  3%|▎         | 1/30 [00:03<01:39,  3.42s/it]"
          ]
        },
        {
          "output_type": "stream",
          "name": "stdout",
          "text": [
            "Day 1: we have 2 patients, 1 cases of new patients\n"
          ]
        },
        {
          "output_type": "stream",
          "name": "stderr",
          "text": [
            "\r  7%|▋         | 2/30 [00:06<01:36,  3.44s/it]"
          ]
        },
        {
          "output_type": "stream",
          "name": "stdout",
          "text": [
            "Day 2: we have 4 patients, 2 cases of new patients\n"
          ]
        },
        {
          "output_type": "stream",
          "name": "stderr",
          "text": [
            "\r 10%|█         | 3/30 [00:10<01:32,  3.41s/it]"
          ]
        },
        {
          "output_type": "stream",
          "name": "stdout",
          "text": [
            "Day 3: we have 6 patients, 2 cases of new patients\n"
          ]
        },
        {
          "output_type": "stream",
          "name": "stderr",
          "text": [
            "\r 13%|█▎        | 4/30 [00:13<01:28,  3.40s/it]"
          ]
        },
        {
          "output_type": "stream",
          "name": "stdout",
          "text": [
            "Day 4: we have 10 patients, 4 cases of new patients\n"
          ]
        },
        {
          "output_type": "stream",
          "name": "stderr",
          "text": [
            "\r 17%|█▋        | 5/30 [00:17<01:25,  3.41s/it]"
          ]
        },
        {
          "output_type": "stream",
          "name": "stdout",
          "text": [
            "Day 5: we have 17 patients, 7 cases of new patients\n"
          ]
        },
        {
          "output_type": "stream",
          "name": "stderr",
          "text": [
            "\r 20%|██        | 6/30 [00:20<01:21,  3.41s/it]"
          ]
        },
        {
          "output_type": "stream",
          "name": "stdout",
          "text": [
            "Day 6: we have 29 patients, 12 cases of new patients\n"
          ]
        },
        {
          "output_type": "stream",
          "name": "stderr",
          "text": [
            "\r 23%|██▎       | 7/30 [00:23<01:19,  3.44s/it]"
          ]
        },
        {
          "output_type": "stream",
          "name": "stdout",
          "text": [
            "Day 7: we have 55 patients, 26 cases of new patients\n"
          ]
        },
        {
          "output_type": "stream",
          "name": "stderr",
          "text": [
            "\r 27%|██▋       | 8/30 [00:27<01:16,  3.47s/it]"
          ]
        },
        {
          "output_type": "stream",
          "name": "stdout",
          "text": [
            "Day 8: we have 93 patients, 38 cases of new patients\n"
          ]
        },
        {
          "output_type": "stream",
          "name": "stderr",
          "text": [
            "\r 30%|███       | 9/30 [00:31<01:14,  3.54s/it]"
          ]
        },
        {
          "output_type": "stream",
          "name": "stdout",
          "text": [
            "Day 9: we have 163 patients, 70 cases of new patients\n"
          ]
        },
        {
          "output_type": "stream",
          "name": "stderr",
          "text": [
            "\r 33%|███▎      | 10/30 [00:35<01:12,  3.63s/it]"
          ]
        },
        {
          "output_type": "stream",
          "name": "stdout",
          "text": [
            "Day 10: we have 270 patients, 107 cases of new patients\n"
          ]
        },
        {
          "output_type": "stream",
          "name": "stderr",
          "text": [
            "\r 37%|███▋      | 11/30 [00:39<01:12,  3.81s/it]"
          ]
        },
        {
          "output_type": "stream",
          "name": "stdout",
          "text": [
            "Day 11: we have 420 patients, 150 cases of new patients\n"
          ]
        },
        {
          "output_type": "stream",
          "name": "stderr",
          "text": [
            "\r 40%|████      | 12/30 [00:43<01:10,  3.93s/it]"
          ]
        },
        {
          "output_type": "stream",
          "name": "stdout",
          "text": [
            "Day 12: we have 574 patients, 154 cases of new patients\n"
          ]
        },
        {
          "output_type": "stream",
          "name": "stderr",
          "text": [
            "\r 43%|████▎     | 13/30 [00:47<01:09,  4.10s/it]"
          ]
        },
        {
          "output_type": "stream",
          "name": "stdout",
          "text": [
            "Day 13: we have 667 patients, 93 cases of new patients\n"
          ]
        },
        {
          "output_type": "stream",
          "name": "stderr",
          "text": [
            "\r 47%|████▋     | 14/30 [00:52<01:06,  4.19s/it]"
          ]
        },
        {
          "output_type": "stream",
          "name": "stdout",
          "text": [
            "Day 14: we have 733 patients, 66 cases of new patients\n"
          ]
        },
        {
          "output_type": "stream",
          "name": "stderr",
          "text": [
            "\r 50%|█████     | 15/30 [00:57<01:04,  4.33s/it]"
          ]
        },
        {
          "output_type": "stream",
          "name": "stdout",
          "text": [
            "Day 15: we have 768 patients, 35 cases of new patients\n"
          ]
        },
        {
          "output_type": "stream",
          "name": "stderr",
          "text": [
            "\r 53%|█████▎    | 16/30 [01:01<01:00,  4.35s/it]"
          ]
        },
        {
          "output_type": "stream",
          "name": "stdout",
          "text": [
            "Day 16: we have 779 patients, 11 cases of new patients\n"
          ]
        },
        {
          "output_type": "stream",
          "name": "stderr",
          "text": [
            "\r 57%|█████▋    | 17/30 [01:05<00:56,  4.35s/it]"
          ]
        },
        {
          "output_type": "stream",
          "name": "stdout",
          "text": [
            "Day 17: we have 783 patients, 4 cases of new patients\n"
          ]
        },
        {
          "output_type": "stream",
          "name": "stderr",
          "text": [
            "\r 60%|██████    | 18/30 [01:10<00:52,  4.36s/it]"
          ]
        },
        {
          "output_type": "stream",
          "name": "stdout",
          "text": [
            "Day 18: we have 785 patients, 2 cases of new patients\n"
          ]
        },
        {
          "output_type": "stream",
          "name": "stderr",
          "text": [
            "\r 63%|██████▎   | 19/30 [01:14<00:47,  4.34s/it]"
          ]
        },
        {
          "output_type": "stream",
          "name": "stdout",
          "text": [
            "Day 19: we have 786 patients, 1 cases of new patients\n"
          ]
        },
        {
          "output_type": "stream",
          "name": "stderr",
          "text": [
            "\r 67%|██████▋   | 20/30 [01:18<00:43,  4.34s/it]"
          ]
        },
        {
          "output_type": "stream",
          "name": "stdout",
          "text": [
            "Day 20: we have 787 patients, 1 cases of new patients\n"
          ]
        },
        {
          "output_type": "stream",
          "name": "stderr",
          "text": [
            "\r 70%|███████   | 21/30 [01:23<00:38,  4.33s/it]"
          ]
        },
        {
          "output_type": "stream",
          "name": "stdout",
          "text": [
            "Day 21: we have 787 patients, 0 cases of new patients\n"
          ]
        },
        {
          "output_type": "stream",
          "name": "stderr",
          "text": [
            "\r 73%|███████▎  | 22/30 [01:27<00:34,  4.34s/it]"
          ]
        },
        {
          "output_type": "stream",
          "name": "stdout",
          "text": [
            "Day 22: we have 787 patients, 0 cases of new patients\n"
          ]
        },
        {
          "output_type": "stream",
          "name": "stderr",
          "text": [
            "\r 77%|███████▋  | 23/30 [01:31<00:30,  4.35s/it]"
          ]
        },
        {
          "output_type": "stream",
          "name": "stdout",
          "text": [
            "Day 23: we have 787 patients, 0 cases of new patients\n"
          ]
        },
        {
          "output_type": "stream",
          "name": "stderr",
          "text": [
            "\r 80%|████████  | 24/30 [01:36<00:26,  4.49s/it]"
          ]
        },
        {
          "output_type": "stream",
          "name": "stdout",
          "text": [
            "Day 24: we have 787 patients, 0 cases of new patients\n"
          ]
        },
        {
          "output_type": "stream",
          "name": "stderr",
          "text": [
            "\r 83%|████████▎ | 25/30 [01:40<00:22,  4.46s/it]"
          ]
        },
        {
          "output_type": "stream",
          "name": "stdout",
          "text": [
            "Day 25: we have 787 patients, 0 cases of new patients\n"
          ]
        },
        {
          "output_type": "stream",
          "name": "stderr",
          "text": [
            "\r 87%|████████▋ | 26/30 [01:45<00:18,  4.55s/it]"
          ]
        },
        {
          "output_type": "stream",
          "name": "stdout",
          "text": [
            "Day 26: we have 787 patients, 0 cases of new patients\n"
          ]
        },
        {
          "output_type": "stream",
          "name": "stderr",
          "text": [
            "\r 90%|█████████ | 27/30 [01:50<00:13,  4.51s/it]"
          ]
        },
        {
          "output_type": "stream",
          "name": "stdout",
          "text": [
            "Day 27: we have 787 patients, 0 cases of new patients\n"
          ]
        },
        {
          "output_type": "stream",
          "name": "stderr",
          "text": [
            "\r 93%|█████████▎| 28/30 [01:54<00:08,  4.47s/it]"
          ]
        },
        {
          "output_type": "stream",
          "name": "stdout",
          "text": [
            "Day 28: we have 787 patients, 0 cases of new patients\n"
          ]
        },
        {
          "output_type": "stream",
          "name": "stderr",
          "text": [
            "\r 97%|█████████▋| 29/30 [01:58<00:04,  4.44s/it]"
          ]
        },
        {
          "output_type": "stream",
          "name": "stdout",
          "text": [
            "Day 29: we have 787 patients, 0 cases of new patients\n"
          ]
        },
        {
          "output_type": "stream",
          "name": "stderr",
          "text": [
            "\r 97%|█████████▋| 29/30 [02:03<00:04,  4.25s/it]"
          ]
        },
        {
          "output_type": "stream",
          "name": "stdout",
          "text": [
            "Day 30: we have 788 patients, 1 cases of new patients\n",
            "Everybody in potential list got sick!\n"
          ]
        },
        {
          "output_type": "stream",
          "name": "stderr",
          "text": [
            "\n"
          ]
        }
      ]
    },
    {
      "cell_type": "code",
      "source": [
        "D_time = max(G_disease)\n",
        "x = np.arange(0, D_time, 1)\n",
        "y = np.zeros(x.shape)\n",
        "z = np.zeros(x.shape)\n",
        "\n",
        "for i in x:\n",
        "  if i == D_time-1:\n",
        "    y[i]=0\n",
        "  else:\n",
        "    y[i] = np.where(G_disease == (D_time-x[i]-1))[0].size\n",
        "for i in x:\n",
        "  z[i] = sum(y[0:i])\n",
        "\n",
        "plt.figure(figsize=(16, 8))\n",
        "\n",
        "plt.title(\"Patients Spread\")\n",
        "plt.ylabel(\"Patient cases\")\n",
        "plt.xlabel(\"Time/(days)\")\n",
        "plt.plot(x, y, label=\"New\", linewidth=1, color='b', marker='*',\n",
        "         markerfacecolor='blue', markersize=5)\n",
        "plt.plot(x, z, label=\"Total\", linewidth=1, color='r', marker='^',\n",
        "         markerfacecolor='red', markersize=5)\n",
        "\n",
        "# for a,b in zip(x,y):\n",
        "#     plt.text(a, b, '%d' % b, ha='center', va= 'bottom',fontsize=9)\n",
        "# for a,b in zip(x,z):\n",
        "#     plt.text(a, b, '%d' % b, ha='center', va= 'bottom',fontsize=9)\n",
        "    \n",
        "plt.legend()\n",
        "\n",
        "plt.gca().xaxis.set_major_locator(MaxNLocator(integer=True))\n",
        "\n",
        "plt.show()"
      ],
      "metadata": {
        "colab": {
          "base_uri": "https://localhost:8080/",
          "height": 513
        },
        "id": "IWHaGFvPqr2f",
        "outputId": "d8f093cd-7058-491e-c64d-6d85890b5d96"
      },
      "execution_count": null,
      "outputs": [
        {
          "output_type": "display_data",
          "data": {
            "text/plain": [
              "<Figure size 1152x576 with 1 Axes>"
            ],
            "image/png": "[encoded data removed]"
          },
          "metadata": {
            "needs_background": "light"
          }
        }
      ]
    },
    {
      "cell_type": "code",
      "source": [
        "# Sampling Graph Data\n",
        "Sample_size = 50\n",
        "G_contacts = []\n",
        "\n",
        "for s in trange(Sample_size):\n",
        "  G_contact = np.full(G_base.shape,0)\n",
        "  for p in potential_list:\n",
        "    # \n",
        "    for op in potential_list:\n",
        "      if (op>=p):\n",
        "        t_interaction = np.random.normal(loc=G_base[p][op], scale=1) * 20/60\n",
        "        t_interaction = max(0,t_interaction)\n",
        "        if (p==op):\n",
        "          G_contact[p][op] = 1\n",
        "        elif t_interaction >= 3:\n",
        "          G_contact[p][op] = 1\n",
        "          G_contact[op][p] = 1\n",
        "  G_contacts.append(G_contact)"
      ],
      "metadata": {
        "colab": {
          "base_uri": "https://localhost:8080/"
        },
        "id": "xg0LUsP1-rTS",
        "outputId": "b98d058a-663b-4bb8-c4de-841c28e59868"
      },
      "execution_count": null,
      "outputs": [
        {
          "output_type": "stream",
          "name": "stderr",
          "text": [
            "100%|██████████| 50/50 [01:29<00:00,  1.79s/it]\n"
          ]
        }
      ]
    },
    {
      "cell_type": "code",
      "source": [
        "len(G_contacts)"
      ],
      "metadata": {
        "colab": {
          "base_uri": "https://localhost:8080/"
        },
        "id": "If9sapuiAJTt",
        "outputId": "40572c08-4301-42f8-d942-fad1cc29d1b7"
      },
      "execution_count": null,
      "outputs": [
        {
          "output_type": "execute_result",
          "data": {
            "text/plain": [
              "50"
            ]
          },
          "metadata": {},
          "execution_count": 14
        }
      ]
    },
    {
      "cell_type": "code",
      "source": [
        "G_1 = G_contacts[0:int(len(G_contacts)/2)]\n",
        "G_2 = G_contacts[int(len(G_contacts)/2):int(len(G_contacts)/2)*2]\n",
        "\n",
        "def E_rc(G1,G2,I,J):\n",
        "  ck_hat = 0\n",
        "  rk_hat = 0\n",
        "\n",
        "  for i in range(G1[0].shape[0]):\n",
        "    ck1 = 0\n",
        "    ck2 = 0\n",
        "    rk1 = 0\n",
        "    rk2 = 0\n",
        "    for g in range(len(G1)): \n",
        "      if i != I:\n",
        "        ck1 += G1[g][i][I]\n",
        "        rk1 += G1[g][I][i]\n",
        "      if i != J:\n",
        "        ck2 += G2[g][i][J]\n",
        "        rk2 += G2[g][J][i]\n",
        "    ck_hat += ck1 * ck2\n",
        "    rk_hat += rk1 * rk2\n",
        "  \n",
        "  return ck_hat/(len(G1)**2*(len(np.delete(T_list, [I,J])))),rk_hat/(len(G1)**2*(len(np.delete(T_list, [I,J]))))"
      ],
      "metadata": {
        "id": "V6dpHjTKBGPw"
      },
      "execution_count": null,
      "outputs": []
    },
    {
      "cell_type": "code",
      "source": [
        "E_rc(G_1,G_2,1,2)"
      ],
      "metadata": {
        "colab": {
          "base_uri": "https://localhost:8080/"
        },
        "id": "_5kKmD_wl-Dq",
        "outputId": "d765e1df-7435-453e-d316-ef0f8f21e52e"
      },
      "execution_count": null,
      "outputs": [
        {
          "output_type": "execute_result",
          "data": {
            "text/plain": [
              "(0.0025031289111389237, 0.0025031289111389237)"
            ]
          },
          "metadata": {},
          "execution_count": 16
        }
      ]
    },
    {
      "cell_type": "markdown",
      "source": [
        "##Blocking"
      ],
      "metadata": {
        "id": "TNsF6G3eNhC8"
      }
    },
    {
      "cell_type": "code",
      "source": [
        "# Reset Blocking\n",
        "Delta = 0.43\n",
        "Delta_squre = Delta ** 2\n",
        "patient_list_copy = patient_list\n",
        "Blocks = []\n",
        "Blocks_delta = []\n",
        "Blocks.append(B_isolate)\n",
        "Blocks_delta.append(0)\n",
        "\n",
        "Block_max = 50\n",
        "gama = 0.01"
      ],
      "metadata": {
        "id": "MKI3TULfygBd"
      },
      "execution_count": null,
      "outputs": []
    },
    {
      "cell_type": "code",
      "source": [
        "# Blockwise\n",
        "while(len(patient_list_copy)>0):\n",
        "  sample_list = [i for i in patient_list_copy] \n",
        "  pivot = random.sample(sample_list, 1)[0]\n",
        "  B_temp = []\n",
        "  # B_temp.append(pivot)\n",
        "  # patient_list_copy = np.delete(patient_list_copy, np.where(patient_list_copy == B_temp)[0])\n",
        "  for j in patient_list_copy:\n",
        "    c_ij, r_ij = E_rc(G_1,G_2,pivot,j)\n",
        "    c_ii, r_ii = E_rc(G_1,G_2,pivot,pivot)\n",
        "    c_jj, r_jj = E_rc(G_1,G_2,j,j)\n",
        "    d_ij = ( (r_ii-2*r_ij+r_jj)+(c_ii-2*c_ij+c_jj) )/2\n",
        "    if d_ij<=Delta_squre:\n",
        "      B_temp.append(j)\n",
        "  for i in B_temp:\n",
        "    patient_list_copy = np.delete(patient_list_copy, np.where(patient_list_copy == i)[0])\n",
        "  Blocks.append(np.array(B_temp))\n",
        "  Blocks_delta.append(Delta)\n",
        "  print('Blocks num {}, remaining nodes {}'.format(len(Blocks),len(patient_list_copy)))\n",
        "  # break\n",
        "\n",
        "while(True):\n",
        "  Delta -= gama\n",
        "  for b in range(len(Blocks)):\n",
        "    if len(Blocks[b]) >= Block_max:\n",
        "      Delta_squre = Delta ** 2\n",
        "      patient_list_copy = Blocks[b]\n",
        "      while(len(patient_list_copy)>Block_max):\n",
        "        sample_list = [i for i in patient_list_copy] \n",
        "        pivot = random.sample(sample_list, 1)[0]\n",
        "        B_temp = []\n",
        "        # B_temp.append(pivot)\n",
        "        # patient_list_copy = np.delete(patient_list_copy, np.where(patient_list_copy == B_temp)[0])\n",
        "        for j in patient_list_copy:\n",
        "          c_ij, r_ij = E_rc(G_1,G_2,pivot,j)\n",
        "          c_ii, r_ii = E_rc(G_1,G_2,pivot,pivot)\n",
        "          c_jj, r_jj = E_rc(G_1,G_2,j,j)\n",
        "          d_ij = ( (r_ii-2*r_ij+r_jj)+(c_ii-2*c_ij+c_jj) )/2\n",
        "          if d_ij<=Delta_squre:\n",
        "            B_temp.append(j)\n",
        "        for i in B_temp:\n",
        "          patient_list_copy = np.delete(patient_list_copy, np.where(patient_list_copy == i)[0])\n",
        "        Blocks.append(np.array(B_temp))\n",
        "        Blocks_delta.append(Delta)\n",
        "        print('Dividing Huge Blocks uses delta={:.2f} ... Blocks num {}, remaining nodes in divided block {}'.format(Delta,len(Blocks),len(patient_list_copy)))\n",
        "      if len(patient_list_copy) == 0:\n",
        "        Blocks.pop(b)\n",
        "        Blocks_delta.pop(b)\n",
        "      else:\n",
        "        Blocks[b] = patient_list_copy\n",
        "\n",
        "  \n",
        "  if all([len(Blocks[b]) <= Block_max for b in range(len(Blocks))]):\n",
        "    break"
      ],
      "metadata": {
        "colab": {
          "base_uri": "https://localhost:8080/"
        },
        "id": "xaMpKWUSaUzp",
        "outputId": "34d27de1-6c56-416f-e915-843ca950c94b"
      },
      "execution_count": null,
      "outputs": [
        {
          "output_type": "stream",
          "name": "stdout",
          "text": [
            "Blocks num 2, remaining nodes 182\n",
            "Blocks num 3, remaining nodes 128\n",
            "Blocks num 4, remaining nodes 91\n",
            "Blocks num 5, remaining nodes 63\n",
            "Blocks num 6, remaining nodes 34\n",
            "Blocks num 7, remaining nodes 33\n",
            "Blocks num 8, remaining nodes 30\n",
            "Blocks num 9, remaining nodes 25\n",
            "Blocks num 10, remaining nodes 13\n",
            "Blocks num 11, remaining nodes 12\n",
            "Blocks num 12, remaining nodes 11\n",
            "Blocks num 13, remaining nodes 10\n",
            "Blocks num 14, remaining nodes 7\n",
            "Blocks num 15, remaining nodes 4\n",
            "Blocks num 16, remaining nodes 3\n",
            "Blocks num 17, remaining nodes 2\n",
            "Blocks num 18, remaining nodes 1\n",
            "Blocks num 19, remaining nodes 0\n",
            "Dividing Huge Blocks uses delta=0.42 ... Blocks num 20, remaining nodes in divided block 16\n",
            "Dividing Huge Blocks uses delta=0.42 ... Blocks num 21, remaining nodes in divided block 33\n",
            "Dividing Huge Blocks uses delta=0.41 ... Blocks num 22, remaining nodes in divided block 322\n",
            "Dividing Huge Blocks uses delta=0.41 ... Blocks num 23, remaining nodes in divided block 163\n",
            "Dividing Huge Blocks uses delta=0.41 ... Blocks num 24, remaining nodes in divided block 53\n",
            "Dividing Huge Blocks uses delta=0.41 ... Blocks num 25, remaining nodes in divided block 45\n",
            "Dividing Huge Blocks uses delta=0.40 ... Blocks num 26, remaining nodes in divided block 1\n",
            "Dividing Huge Blocks uses delta=0.40 ... Blocks num 27, remaining nodes in divided block 90\n",
            "Dividing Huge Blocks uses delta=0.40 ... Blocks num 28, remaining nodes in divided block 35\n",
            "Dividing Huge Blocks uses delta=0.40 ... Blocks num 29, remaining nodes in divided block 59\n",
            "Dividing Huge Blocks uses delta=0.40 ... Blocks num 30, remaining nodes in divided block 46\n",
            "Dividing Huge Blocks uses delta=0.39 ... Blocks num 31, remaining nodes in divided block 2\n",
            "Dividing Huge Blocks uses delta=0.39 ... Blocks num 32, remaining nodes in divided block 3\n",
            "Dividing Huge Blocks uses delta=0.39 ... Blocks num 33, remaining nodes in divided block 3\n",
            "Dividing Huge Blocks uses delta=0.39 ... Blocks num 34, remaining nodes in divided block 14\n",
            "Dividing Huge Blocks uses delta=0.38 ... Blocks num 35, remaining nodes in divided block 30\n",
            "Dividing Huge Blocks uses delta=0.38 ... Blocks num 36, remaining nodes in divided block 10\n",
            "Dividing Huge Blocks uses delta=0.38 ... Blocks num 37, remaining nodes in divided block 4\n",
            "Dividing Huge Blocks uses delta=0.37 ... Blocks num 38, remaining nodes in divided block 84\n",
            "Dividing Huge Blocks uses delta=0.37 ... Blocks num 39, remaining nodes in divided block 37\n",
            "Dividing Huge Blocks uses delta=0.37 ... Blocks num 40, remaining nodes in divided block 10\n",
            "Dividing Huge Blocks uses delta=0.36 ... Blocks num 41, remaining nodes in divided block 0\n",
            "Dividing Huge Blocks uses delta=0.36 ... Blocks num 41, remaining nodes in divided block 4\n",
            "Dividing Huge Blocks uses delta=0.35 ... Blocks num 42, remaining nodes in divided block 2\n",
            "Dividing Huge Blocks uses delta=0.34 ... Blocks num 43, remaining nodes in divided block 0\n",
            "Dividing Huge Blocks uses delta=0.33 ... Blocks num 43, remaining nodes in divided block 24\n",
            "Dividing Huge Blocks uses delta=0.32 ... Blocks num 44, remaining nodes in divided block 1\n",
            "Dividing Huge Blocks uses delta=0.31 ... Blocks num 45, remaining nodes in divided block 16\n",
            "Dividing Huge Blocks uses delta=0.30 ... Blocks num 46, remaining nodes in divided block 0\n",
            "Dividing Huge Blocks uses delta=0.29 ... Blocks num 46, remaining nodes in divided block 13\n",
            "Dividing Huge Blocks uses delta=0.28 ... Blocks num 47, remaining nodes in divided block 0\n",
            "Dividing Huge Blocks uses delta=0.27 ... Blocks num 47, remaining nodes in divided block 0\n",
            "Dividing Huge Blocks uses delta=0.26 ... Blocks num 47, remaining nodes in divided block 21\n",
            "Dividing Huge Blocks uses delta=0.25 ... Blocks num 48, remaining nodes in divided block 0\n",
            "Dividing Huge Blocks uses delta=0.24 ... Blocks num 48, remaining nodes in divided block 0\n",
            "Dividing Huge Blocks uses delta=0.23 ... Blocks num 48, remaining nodes in divided block 3\n",
            "Dividing Huge Blocks uses delta=0.22 ... Blocks num 49, remaining nodes in divided block 0\n",
            "Dividing Huge Blocks uses delta=0.21 ... Blocks num 49, remaining nodes in divided block 0\n",
            "Dividing Huge Blocks uses delta=0.20 ... Blocks num 49, remaining nodes in divided block 5\n",
            "Dividing Huge Blocks uses delta=0.19 ... Blocks num 50, remaining nodes in divided block 31\n"
          ]
        }
      ]
    },
    {
      "cell_type": "code",
      "source": [
        "len(Blocks)"
      ],
      "metadata": {
        "colab": {
          "base_uri": "https://localhost:8080/"
        },
        "id": "voMFGrXRmj9e",
        "outputId": "7d594255-396c-43b6-ec79-73f8a78895c3"
      },
      "execution_count": null,
      "outputs": [
        {
          "output_type": "execute_result",
          "data": {
            "text/plain": [
              "50"
            ]
          },
          "metadata": {},
          "execution_count": 19
        }
      ]
    },
    {
      "cell_type": "code",
      "source": [
        "all([len(Blocks[b]) <= Block_max for b in range(len(Blocks))])"
      ],
      "metadata": {
        "colab": {
          "base_uri": "https://localhost:8080/"
        },
        "id": "STt5vMuRjiMu",
        "outputId": "cb3e6394-f1e7-4acb-ab2c-e59c64dff871"
      },
      "execution_count": null,
      "outputs": [
        {
          "output_type": "execute_result",
          "data": {
            "text/plain": [
              "True"
            ]
          },
          "metadata": {},
          "execution_count": 20
        }
      ]
    },
    {
      "cell_type": "code",
      "source": [
        "print(Blocks)\n",
        "print(Blocks_delta)"
      ],
      "metadata": {
        "colab": {
          "base_uri": "https://localhost:8080/"
        },
        "id": "E6Jqp-yV2dOU",
        "outputId": "2b8bccb0-5667-4b31-f03b-b5cc27dffb15"
      },
      "execution_count": null,
      "outputs": [
        {
          "output_type": "stream",
          "name": "stdout",
          "text": [
            "[array([  0, 548, 790, 791, 792, 793, 794, 795, 796, 797, 798, 799, 800]), array([133, 221, 261, 381, 414, 421, 428, 460, 479, 498, 590, 620, 633,\n",
            "       642, 676, 770]), array([ 30,  33,  54,  99, 111, 175, 177, 226, 244, 250, 299, 304, 380,\n",
            "       386, 392, 398, 434, 462, 480, 495, 500, 511, 525, 527, 531, 551,\n",
            "       579, 587, 589, 666, 738, 759, 767]), array([  2,  10,  19,  22,  23, 101, 102, 110, 112, 126, 127, 160, 168,\n",
            "       208, 223, 230, 295, 300, 331, 373, 385, 395, 422, 468, 476, 504,\n",
            "       513, 532, 583, 592, 597, 632, 650, 685, 687, 692, 737]), array([ 24,  32,  45, 121, 143, 145, 148, 167, 170, 236, 248, 252, 279,\n",
            "       291, 318, 382, 446, 554, 581, 646, 655, 671, 672, 684, 708, 717,\n",
            "       732, 777]), array([ 29,  67,  75,  84, 119, 130, 219, 227, 264, 265, 354, 355, 360,\n",
            "       391, 403, 487, 515, 534, 535, 538, 541, 547, 593, 614, 625, 629,\n",
            "       682, 758, 782]), array([74]), array([307, 399, 703]), array([329, 419, 574, 648, 724]), array([ 63,  70, 196, 206, 224, 266, 312, 345, 358, 372, 425, 679]), array([484]), array([721]), array([349]), array([191, 549, 607]), array([172, 564, 567]), array([709]), array([413]), array([520]), array([247]), array([ 12,  47,  49,  57,  65,  79,  89, 100, 105, 134, 135, 218, 235,\n",
            "       239, 257, 262, 273, 277, 321, 322, 334, 359, 370, 379, 390, 409,\n",
            "       444, 445, 454, 464, 488, 497, 502, 518, 522, 544, 577, 578, 598,\n",
            "       618, 662, 675, 678, 745, 789]), array([  5,  27,  78,  86, 122, 171, 187, 276, 288, 335, 364, 411, 537,\n",
            "       573, 639, 663, 696, 712, 772, 778, 785]), array([85]), array([ 60,  66,  83, 125, 159, 164, 179, 192, 199, 200, 202, 217, 228,\n",
            "       294, 309, 319, 340, 368, 378, 383, 396, 441, 469, 489, 490, 555,\n",
            "       641, 652, 658, 668, 761, 764, 765, 773, 774]), array([  7,  11,  28,  35,  48,  72,  80,  88,  94, 104, 150, 174, 203,\n",
            "       213, 229, 253, 270, 272, 281, 283, 292, 356, 363, 366, 367, 394,\n",
            "       418, 432, 453, 455, 509, 517, 530, 552, 553, 585, 604, 611, 621,\n",
            "       636, 670, 695, 713, 733, 746, 775]), array([242, 268, 317, 516, 533, 562, 688, 788]), array([426, 510]), array([117, 190, 638]), array([ 93, 156, 437]), array([ 87, 155, 216, 361, 429, 501, 512, 571, 602, 612, 619, 630, 683,\n",
            "       715]), array([ 15,  17,  31,  81, 183, 215, 254, 346, 461, 563, 756, 769, 776]), array([ 46, 124, 169, 205, 232, 246, 249, 251, 296, 330, 343, 384, 393,\n",
            "       400, 404, 423, 440, 560, 608, 626, 653, 657, 665, 669, 699, 725,\n",
            "       735, 740, 754, 763]), array([238, 314, 415, 485, 493, 523, 582, 667, 741, 780]), array([ 36,  95, 408, 483]), array([ 25,  43,  64,  76, 116, 120, 136, 144, 149, 152, 181, 211, 233,\n",
            "       259, 287, 324, 325, 333, 339, 351, 420, 443, 450, 451, 536, 559,\n",
            "       617, 631, 660, 677, 694, 697, 700, 716, 726, 743, 749]), array([  8,  21,  40,  59,  97, 107, 118, 161, 176, 237, 245, 280, 290,\n",
            "       310, 362, 412, 438, 448, 452, 463, 466, 471, 494, 499, 519, 570,\n",
            "       605, 606, 634, 659, 691, 702, 720, 723, 757, 771, 784]), array([  6,  18, 103, 153, 157, 185, 241, 311, 569, 613]), array([  9,  13,  38,  56,  61,  69,  91, 123, 132, 137, 147, 188, 193,\n",
            "       195, 207, 225, 231, 240, 255, 263, 271, 275, 278, 293, 302, 313,\n",
            "       315, 344, 369, 401, 402, 407, 416, 467, 492, 496, 539, 546, 558,\n",
            "       572, 600, 601, 651, 686, 718, 734, 742, 779]), array([  3,   4,  37,  50,  52,  77, 109, 114, 129, 131, 138, 146, 166,\n",
            "       173, 210, 284, 286, 306, 320, 347, 371, 397, 424, 427, 474, 486,\n",
            "       503, 507, 514, 526, 556, 568, 576, 586, 588, 595, 603, 623, 627,\n",
            "       635, 644, 656, 661, 698, 719, 728, 787]), array([ 71,  82, 139, 141, 178, 194, 209, 214, 256, 269, 297, 298, 332,\n",
            "       336, 342, 350, 365, 377, 388, 405, 435, 442, 449, 457, 458, 459,\n",
            "       475, 481, 506, 529, 543, 557, 580, 584, 609, 654, 664, 680, 689,\n",
            "       690, 701, 722, 730, 747, 762, 783]), array([158, 508, 596, 616]), array([186, 528]), array([ 42,  90,  98, 151, 165, 184, 212, 308, 328, 338, 357, 374, 430,\n",
            "       431, 439, 561, 594, 610, 637, 640, 704, 729, 750, 751]), array([41]), array([ 39,  62, 115, 243, 301, 303, 352, 389, 540, 565, 615, 645, 649,\n",
            "       710, 711, 731]), array([ 14,  73, 197, 258, 323, 326, 337, 410, 470, 707, 748, 753, 760]), array([ 16,  55,  68,  96, 106, 142, 180, 198, 222, 282, 285, 316, 433,\n",
            "       456, 478, 491, 591, 624, 736, 755, 766]), array([472, 542, 786]), array([  1, 154, 163, 521, 744]), array([ 20,  26,  34,  44,  51,  53,  92, 140, 182, 201, 220, 274, 341,\n",
            "       348, 353, 387, 417, 447, 465, 482, 524, 566, 575, 628, 643, 693,\n",
            "       705, 706, 714, 727, 768]), array([ 58, 108, 113, 128, 162, 189, 204, 234, 260, 267, 289, 305, 327,\n",
            "       375, 376, 406, 436, 473, 477, 505, 545, 550, 599, 622, 647, 673,\n",
            "       674, 681, 739, 752, 781])]\n",
            "[0, 0.43, 0.43, 0.43, 0.43, 0.43, 0.43, 0.43, 0.43, 0.43, 0.43, 0.43, 0.43, 0.43, 0.43, 0.43, 0.43, 0.43, 0.43, 0.42, 0.42, 0.41, 0.41, 0.41, 0.41, 0.39999999999999997, 0.39999999999999997, 0.39999999999999997, 0.39999999999999997, 0.39999999999999997, 0.38999999999999996, 0.38999999999999996, 0.38999999999999996, 0.38999999999999996, 0.37999999999999995, 0.37999999999999995, 0.37999999999999995, 0.36999999999999994, 0.36999999999999994, 0.35999999999999993, 0.35999999999999993, 0.3399999999999999, 0.3299999999999999, 0.3199999999999999, 0.2999999999999999, 0.26999999999999985, 0.23999999999999982, 0.2099999999999998, 0.1999999999999998, 0.18999999999999978]\n"
          ]
        }
      ]
    },
    {
      "cell_type": "markdown",
      "source": [
        "##Simulating"
      ],
      "metadata": {
        "id": "wBkH7Ka7OE3y"
      }
    },
    {
      "cell_type": "markdown",
      "source": [
        "###With single isolating"
      ],
      "metadata": {
        "id": "rUkK7CPwNlGJ"
      }
    },
    {
      "cell_type": "code",
      "source": [
        "# Reset the patients status\n",
        "G_disease_i = np.full((1,df_char.shape[0]),0)[0]\n",
        "G_disease_i[patient_zero] = 1\n",
        "patient_list_i = np.where(G_disease_i>0)[0]\n",
        "isolate_list = []\n",
        "potential_list_i = potential_list\n",
        "latency = 4\n",
        "\n",
        "print(patient_list_i)"
      ],
      "metadata": {
        "colab": {
          "base_uri": "https://localhost:8080/"
        },
        "id": "zCwgcbSvv6lU",
        "outputId": "df2c181a-271c-49c8-8bc0-00a8cf0d2063"
      },
      "execution_count": null,
      "outputs": [
        {
          "output_type": "stream",
          "name": "stdout",
          "text": [
            "[538]\n"
          ]
        }
      ]
    },
    {
      "cell_type": "code",
      "source": [
        "# Covid-19 simulating with isolating\n",
        "TIME = 30 #Days\n",
        "patients_num = len(patient_list_i)\n",
        "print(\"Start simulating, Day 0, we have patients:\", patients_num)\n",
        "\n",
        "for days in trange(TIME):\n",
        "  for p in potential_list_i:\n",
        "    # if (np.where(isolate_list == p)[0].size == 0):\n",
        "      for op in potential_list_i:\n",
        "        # if (np.where(isolate_list == op)[0].size == 0) and (op>=p):\n",
        "        if (op>=p):\n",
        "          if (np.where(patient_list_i == p)[0].size > 0):\n",
        "            t_interaction = np.random.normal(loc=G_base[p][op], scale=1) * 20/60\n",
        "            t_interaction = max(0,t_interaction)  \n",
        "            if (np.random.random() <= Alpha_rate(t_interaction) and G_disease_i[op] == 0):\n",
        "              G_disease_i[op] = 1\n",
        "          elif (np.where(patient_list_i == op)[0].size > 0):\n",
        "            t_interaction = np.random.normal(loc=G_base[p][op], scale=1) * 20/60\n",
        "            t_interaction = max(0,t_interaction)\n",
        "            if (np.random.random() <= Alpha_rate(t_interaction) and G_disease_i[p] == 0):\n",
        "              G_disease_i[p] = 1\n",
        "\n",
        "  for p in range(len(G_disease_i)):\n",
        "    if G_disease_i[p] > 0:\n",
        "      G_disease_i[p] += 1\n",
        "    if (G_disease_i[p] >= latency) and (np.where(np.array(isolate_list) == p)[0].size == 0):\n",
        "      isolate_list.append(p)\n",
        "  patient_list_i = np.where(G_disease_i>0)[0]\n",
        "  # print(isolate_list)\n",
        "  for i in isolate_list:\n",
        "    potential_list_i = np.delete(potential_list_i, np.where(potential_list_i == i)[0])\n",
        "  \n",
        "  print('Day {}: we have {} patients, {} cases of new patients, {} isolated patients'.format(days+1,len(patient_list_i), len(patient_list_i)-patients_num, len(isolate_list)))\n",
        "  patients_num = len(patient_list_i)\n",
        "\n",
        "  if len(patient_list_i) == len(potential_list):\n",
        "    print(\"Everybody in potential list got sick!\")\n",
        "    break\n",
        "\n",
        "  if set(patient_list_i).issubset(isolate_list):\n",
        "    print(\"Every patients are isolated!\")\n",
        "    break"
      ],
      "metadata": {
        "colab": {
          "base_uri": "https://localhost:8080/"
        },
        "outputId": "eeb00e8a-3547-457f-dfa7-df6f861f489f",
        "id": "Hss5QAnHvgzE"
      },
      "execution_count": null,
      "outputs": [
        {
          "output_type": "stream",
          "name": "stdout",
          "text": [
            "Start simulating, Day 0, we have patients: 1\n"
          ]
        },
        {
          "output_type": "stream",
          "name": "stderr",
          "text": [
            "  3%|▎         | 1/30 [00:02<01:03,  2.19s/it]"
          ]
        },
        {
          "output_type": "stream",
          "name": "stdout",
          "text": [
            "Day 1: we have 4 patients, 3 cases of new patients, 0 isolated patients\n"
          ]
        },
        {
          "output_type": "stream",
          "name": "stderr",
          "text": [
            "\r  7%|▋         | 2/30 [00:05<01:19,  2.85s/it]"
          ]
        },
        {
          "output_type": "stream",
          "name": "stdout",
          "text": [
            "Day 2: we have 8 patients, 4 cases of new patients, 0 isolated patients\n"
          ]
        },
        {
          "output_type": "stream",
          "name": "stderr",
          "text": [
            "\r 10%|█         | 3/30 [00:08<01:21,  3.04s/it]"
          ]
        },
        {
          "output_type": "stream",
          "name": "stdout",
          "text": [
            "Day 3: we have 20 patients, 12 cases of new patients, 4 isolated patients\n"
          ]
        },
        {
          "output_type": "stream",
          "name": "stderr",
          "text": [
            "\r 13%|█▎        | 4/30 [00:10<01:06,  2.55s/it]"
          ]
        },
        {
          "output_type": "stream",
          "name": "stdout",
          "text": [
            "Day 4: we have 41 patients, 21 cases of new patients, 8 isolated patients\n"
          ]
        },
        {
          "output_type": "stream",
          "name": "stderr",
          "text": [
            "\r 17%|█▋        | 5/30 [00:12<00:58,  2.32s/it]"
          ]
        },
        {
          "output_type": "stream",
          "name": "stdout",
          "text": [
            "Day 5: we have 66 patients, 25 cases of new patients, 20 isolated patients\n"
          ]
        },
        {
          "output_type": "stream",
          "name": "stderr",
          "text": [
            "\r 20%|██        | 6/30 [00:14<00:52,  2.20s/it]"
          ]
        },
        {
          "output_type": "stream",
          "name": "stdout",
          "text": [
            "Day 6: we have 106 patients, 40 cases of new patients, 41 isolated patients\n"
          ]
        },
        {
          "output_type": "stream",
          "name": "stderr",
          "text": [
            "\r 23%|██▎       | 7/30 [00:16<00:49,  2.13s/it]"
          ]
        },
        {
          "output_type": "stream",
          "name": "stdout",
          "text": [
            "Day 7: we have 152 patients, 46 cases of new patients, 66 isolated patients\n"
          ]
        },
        {
          "output_type": "stream",
          "name": "stderr",
          "text": [
            "\r 27%|██▋       | 8/30 [00:18<00:45,  2.09s/it]"
          ]
        },
        {
          "output_type": "stream",
          "name": "stdout",
          "text": [
            "Day 8: we have 217 patients, 65 cases of new patients, 106 isolated patients\n"
          ]
        },
        {
          "output_type": "stream",
          "name": "stderr",
          "text": [
            "\r 30%|███       | 9/30 [00:20<00:43,  2.05s/it]"
          ]
        },
        {
          "output_type": "stream",
          "name": "stdout",
          "text": [
            "Day 9: we have 276 patients, 59 cases of new patients, 152 isolated patients\n"
          ]
        },
        {
          "output_type": "stream",
          "name": "stderr",
          "text": [
            "\r 33%|███▎      | 10/30 [00:22<00:39,  1.99s/it]"
          ]
        },
        {
          "output_type": "stream",
          "name": "stdout",
          "text": [
            "Day 10: we have 343 patients, 67 cases of new patients, 217 isolated patients\n"
          ]
        },
        {
          "output_type": "stream",
          "name": "stderr",
          "text": [
            "\r 37%|███▋      | 11/30 [00:23<00:35,  1.85s/it]"
          ]
        },
        {
          "output_type": "stream",
          "name": "stdout",
          "text": [
            "Day 11: we have 401 patients, 58 cases of new patients, 276 isolated patients\n"
          ]
        },
        {
          "output_type": "stream",
          "name": "stderr",
          "text": [
            "\r 40%|████      | 12/30 [00:25<00:30,  1.69s/it]"
          ]
        },
        {
          "output_type": "stream",
          "name": "stdout",
          "text": [
            "Day 12: we have 452 patients, 51 cases of new patients, 343 isolated patients\n"
          ]
        },
        {
          "output_type": "stream",
          "name": "stderr",
          "text": [
            "\r 43%|████▎     | 13/30 [00:26<00:25,  1.49s/it]"
          ]
        },
        {
          "output_type": "stream",
          "name": "stdout",
          "text": [
            "Day 13: we have 489 patients, 37 cases of new patients, 401 isolated patients\n"
          ]
        },
        {
          "output_type": "stream",
          "name": "stderr",
          "text": [
            "\r 47%|████▋     | 14/30 [00:26<00:20,  1.26s/it]"
          ]
        },
        {
          "output_type": "stream",
          "name": "stdout",
          "text": [
            "Day 14: we have 522 patients, 33 cases of new patients, 452 isolated patients\n"
          ]
        },
        {
          "output_type": "stream",
          "name": "stderr",
          "text": [
            "\r 50%|█████     | 15/30 [00:27<00:16,  1.08s/it]"
          ]
        },
        {
          "output_type": "stream",
          "name": "stdout",
          "text": [
            "Day 15: we have 540 patients, 18 cases of new patients, 489 isolated patients\n"
          ]
        },
        {
          "output_type": "stream",
          "name": "stderr",
          "text": [
            "\r 53%|█████▎    | 16/30 [00:28<00:12,  1.11it/s]"
          ]
        },
        {
          "output_type": "stream",
          "name": "stdout",
          "text": [
            "Day 16: we have 558 patients, 18 cases of new patients, 522 isolated patients\n"
          ]
        },
        {
          "output_type": "stream",
          "name": "stderr",
          "text": [
            "\r 57%|█████▋    | 17/30 [00:28<00:09,  1.35it/s]"
          ]
        },
        {
          "output_type": "stream",
          "name": "stdout",
          "text": [
            "Day 17: we have 570 patients, 12 cases of new patients, 540 isolated patients\n"
          ]
        },
        {
          "output_type": "stream",
          "name": "stderr",
          "text": [
            "\r 60%|██████    | 18/30 [00:28<00:07,  1.62it/s]"
          ]
        },
        {
          "output_type": "stream",
          "name": "stdout",
          "text": [
            "Day 18: we have 574 patients, 4 cases of new patients, 558 isolated patients\n"
          ]
        },
        {
          "output_type": "stream",
          "name": "stderr",
          "text": [
            "\r 63%|██████▎   | 19/30 [00:28<00:05,  1.96it/s]"
          ]
        },
        {
          "output_type": "stream",
          "name": "stdout",
          "text": [
            "Day 19: we have 581 patients, 7 cases of new patients, 570 isolated patients\n"
          ]
        },
        {
          "output_type": "stream",
          "name": "stderr",
          "text": [
            "\r 67%|██████▋   | 20/30 [00:29<00:04,  2.34it/s]"
          ]
        },
        {
          "output_type": "stream",
          "name": "stdout",
          "text": [
            "Day 20: we have 582 patients, 1 cases of new patients, 574 isolated patients\n"
          ]
        },
        {
          "output_type": "stream",
          "name": "stderr",
          "text": [
            " 73%|███████▎  | 22/30 [00:29<00:02,  3.20it/s]"
          ]
        },
        {
          "output_type": "stream",
          "name": "stdout",
          "text": [
            "Day 21: we have 583 patients, 1 cases of new patients, 581 isolated patients\n",
            "Day 22: we have 584 patients, 1 cases of new patients, 582 isolated patients\n"
          ]
        },
        {
          "output_type": "stream",
          "name": "stderr",
          "text": [
            " 77%|███████▋  | 23/30 [00:30<00:09,  1.30s/it]"
          ]
        },
        {
          "output_type": "stream",
          "name": "stdout",
          "text": [
            "Day 23: we have 584 patients, 0 cases of new patients, 583 isolated patients\n",
            "Day 24: we have 584 patients, 0 cases of new patients, 584 isolated patients\n",
            "Every patients are isolated!\n"
          ]
        },
        {
          "output_type": "stream",
          "name": "stderr",
          "text": [
            "\n"
          ]
        }
      ]
    },
    {
      "cell_type": "code",
      "source": [
        "D_time = max(G_disease_i)\n",
        "x = np.arange(0, D_time, 1)\n",
        "y = np.zeros(x.shape)\n",
        "z = np.zeros(x.shape)\n",
        "\n",
        "for i in x:\n",
        "  if i == D_time-1:\n",
        "    y[i]=0\n",
        "  else:\n",
        "    y[i] = np.where(G_disease_i == (D_time-x[i]-1))[0].size\n",
        "for i in x:\n",
        "  z[i] = sum(y[0:i])\n",
        "\n",
        "plt.figure(figsize=(16, 8))\n",
        "\n",
        "plt.title(\"Patients Spread\")\n",
        "plt.ylabel(\"Patient cases\")\n",
        "plt.xlabel(\"Time/(days)\")\n",
        "plt.plot(x, y, label=\"New\", linewidth=1, color='b', marker='*',\n",
        "         markerfacecolor='blue', markersize=5)\n",
        "plt.plot(x, z, label=\"Total\", linewidth=1, color='r', marker='^',\n",
        "         markerfacecolor='red', markersize=5)\n",
        "\n",
        "# for a,b in zip(x,y):\n",
        "#     plt.text(a, b, '%d' % b, ha='center', va= 'bottom',fontsize=9)\n",
        "# for a,b in zip(x,z):\n",
        "#     plt.text(a, b, '%d' % b, ha='center', va= 'bottom',fontsize=9)\n",
        "    \n",
        "plt.legend()\n",
        "\n",
        "plt.gca().xaxis.set_major_locator(MaxNLocator(integer=True))\n",
        "\n",
        "plt.show()"
      ],
      "metadata": {
        "colab": {
          "base_uri": "https://localhost:8080/",
          "height": 513
        },
        "outputId": "d14fc78a-d9f8-41c0-a18e-157243310fc9",
        "id": "V50zMTiCwnlJ"
      },
      "execution_count": null,
      "outputs": [
        {
          "output_type": "display_data",
          "data": {
            "text/plain": [
              "<Figure size 1152x576 with 1 Axes>"
            ],
            "image/png": "[encoded data removed]"
          },
          "metadata": {
            "needs_background": "light"
          }
        }
      ]
    },
    {
      "cell_type": "markdown",
      "source": [
        "###With Blockwise isolating"
      ],
      "metadata": {
        "id": "-rVRKserN5QV"
      }
    },
    {
      "cell_type": "code",
      "source": [
        "# Reset the patients status\n",
        "G_disease_ib = np.full((1,df_char.shape[0]),0)[0]\n",
        "G_disease_ib[patient_zero] = 1\n",
        "patient_list_ib = np.where(G_disease_ib>0)[0]\n",
        "isolate_list_b = []\n",
        "potential_list_ib = potential_list\n",
        "Block_list = np.array(list(range(len(Blocks))))\n",
        "latency = 4\n",
        "\n",
        "print(patient_list_ib)"
      ],
      "metadata": {
        "colab": {
          "base_uri": "https://localhost:8080/"
        },
        "outputId": "fa5d1eeb-f643-463a-8c72-c699082d7143",
        "id": "woBQte6D7j4F"
      },
      "execution_count": null,
      "outputs": [
        {
          "output_type": "stream",
          "name": "stdout",
          "text": [
            "[538]\n"
          ]
        }
      ]
    },
    {
      "cell_type": "code",
      "source": [
        "# Covid-19 simulating with blockwise isolating\n",
        "TIME = 30 #Days\n",
        "patients_num = len(patient_list_ib)\n",
        "print(\"Start simulating, Day 0, we have patients:\", patients_num)\n",
        "\n",
        "for days in trange(TIME):\n",
        "  for p in potential_list_ib:\n",
        "    # if (np.where(isolate_list_b == p)[0].size == 0):\n",
        "      for op in potential_list_ib:\n",
        "        # if (np.where(isolate_list_b == op)[0].size == 0) and (op>=p):\n",
        "        if (op>=p):\n",
        "          if (np.where(patient_list_ib == p)[0].size > 0):\n",
        "            t_interaction = np.random.normal(loc=G_base[p][op], scale=1) * 20/60\n",
        "            t_interaction = max(0,t_interaction)  \n",
        "            if (np.random.random() <= Alpha_rate(t_interaction) and G_disease_ib[op] == 0):\n",
        "              G_disease_ib[op] = 1\n",
        "          elif (np.where(patient_list_ib == op)[0].size > 0):\n",
        "            t_interaction = np.random.normal(loc=G_base[p][op], scale=1) * 20/60\n",
        "            t_interaction = max(0,t_interaction)\n",
        "            if (np.random.random() <= Alpha_rate(t_interaction) and G_disease_ib[p] == 0):\n",
        "              G_disease_ib[p] = 1\n",
        "\n",
        "  for p in range(len(G_disease_ib)):\n",
        "    if G_disease_ib[p] > 0:\n",
        "      G_disease_ib[p] += 1\n",
        "    if (G_disease_ib[p] >= latency) and (np.where(np.array(isolate_list_b) == p)[0].size == 0):\n",
        "      isolate_list_b.append(p)\n",
        "      for b in Block_list:\n",
        "        if np.where(Blocks[b] == p)[0].size >0:\n",
        "          isolate_list_b.extend(Blocks[b].tolist())\n",
        "          Block_list = np.delete(Block_list, np.where(Block_list == b)[0])\n",
        "          break\n",
        "  patient_list_ib = np.where(G_disease_ib>0)[0]\n",
        "  # print(isolate_list_b)\n",
        "  for i in isolate_list_b:\n",
        "    potential_list_ib = np.delete(potential_list_ib, np.where(potential_list_ib == i)[0])\n",
        "  \n",
        "  print('Day {}: we have {} patients, {} cases of new patients, {} isolated patients'.format(days+1,len(patient_list_ib), len(patient_list_ib)-patients_num, len(isolate_list_b)))\n",
        "  patients_num = len(patient_list_ib)\n",
        "\n",
        "  if len(patient_list_ib) == len(potential_list):\n",
        "    print(\"Everybody in potential list got sick!\")\n",
        "    break\n",
        "\n",
        "  if set(patient_list_ib).issubset(isolate_list_b):\n",
        "    print(\"Every patients are isolated!\")\n",
        "    break"
      ],
      "metadata": {
        "colab": {
          "base_uri": "https://localhost:8080/"
        },
        "outputId": "922fc4b6-f0cc-48cc-e529-a124fbba4069",
        "id": "5dsjYzCK7j4G"
      },
      "execution_count": null,
      "outputs": [
        {
          "output_type": "stream",
          "name": "stdout",
          "text": [
            "Start simulating, Day 0, we have patients: 1\n"
          ]
        },
        {
          "output_type": "stream",
          "name": "stderr",
          "text": [
            "  3%|▎         | 1/30 [00:01<00:52,  1.80s/it]"
          ]
        },
        {
          "output_type": "stream",
          "name": "stdout",
          "text": [
            "Day 1: we have 2 patients, 1 cases of new patients, 0 isolated patients\n"
          ]
        },
        {
          "output_type": "stream",
          "name": "stderr",
          "text": [
            "\r  7%|▋         | 2/30 [00:03<00:49,  1.77s/it]"
          ]
        },
        {
          "output_type": "stream",
          "name": "stdout",
          "text": [
            "Day 2: we have 3 patients, 1 cases of new patients, 0 isolated patients\n"
          ]
        },
        {
          "output_type": "stream",
          "name": "stderr",
          "text": [
            "\r 10%|█         | 3/30 [00:05<00:47,  1.75s/it]"
          ]
        },
        {
          "output_type": "stream",
          "name": "stdout",
          "text": [
            "Day 3: we have 4 patients, 1 cases of new patients, 52 isolated patients\n"
          ]
        },
        {
          "output_type": "stream",
          "name": "stderr",
          "text": [
            "\r 13%|█▎        | 4/30 [00:06<00:43,  1.66s/it]"
          ]
        },
        {
          "output_type": "stream",
          "name": "stdout",
          "text": [
            "Day 4: we have 5 patients, 1 cases of new patients, 90 isolated patients\n"
          ]
        },
        {
          "output_type": "stream",
          "name": "stderr",
          "text": [
            "\r 17%|█▋        | 5/30 [00:08<00:39,  1.57s/it]"
          ]
        },
        {
          "output_type": "stream",
          "name": "stdout",
          "text": [
            "Day 5: we have 6 patients, 1 cases of new patients, 128 isolated patients\n"
          ]
        },
        {
          "output_type": "stream",
          "name": "stderr",
          "text": [
            "\r 20%|██        | 6/30 [00:09<00:35,  1.46s/it]"
          ]
        },
        {
          "output_type": "stream",
          "name": "stdout",
          "text": [
            "Day 6: we have 6 patients, 0 cases of new patients, 175 isolated patients\n"
          ]
        },
        {
          "output_type": "stream",
          "name": "stderr",
          "text": [
            "\r 23%|██▎       | 7/30 [00:10<00:30,  1.34s/it]"
          ]
        },
        {
          "output_type": "stream",
          "name": "stdout",
          "text": [
            "Day 7: we have 7 patients, 1 cases of new patients, 207 isolated patients\n"
          ]
        },
        {
          "output_type": "stream",
          "name": "stderr",
          "text": [
            "\r 27%|██▋       | 8/30 [00:11<00:26,  1.22s/it]"
          ]
        },
        {
          "output_type": "stream",
          "name": "stdout",
          "text": [
            "Day 8: we have 8 patients, 1 cases of new patients, 207 isolated patients\n"
          ]
        },
        {
          "output_type": "stream",
          "name": "stderr",
          "text": [
            "\r 30%|███       | 9/30 [00:12<00:24,  1.15s/it]"
          ]
        },
        {
          "output_type": "stream",
          "name": "stdout",
          "text": [
            "Day 9: we have 8 patients, 0 cases of new patients, 220 isolated patients\n"
          ]
        },
        {
          "output_type": "stream",
          "name": "stderr",
          "text": [
            "\r 30%|███       | 9/30 [00:13<00:31,  1.49s/it]"
          ]
        },
        {
          "output_type": "stream",
          "name": "stdout",
          "text": [
            "Day 10: we have 8 patients, 0 cases of new patients, 245 isolated patients\n",
            "Every patients are isolated!\n"
          ]
        },
        {
          "output_type": "stream",
          "name": "stderr",
          "text": [
            "\n"
          ]
        }
      ]
    },
    {
      "cell_type": "code",
      "source": [
        "D_time = max(G_disease_ib)\n",
        "x = np.arange(0, D_time, 1)\n",
        "y = np.zeros(x.shape)\n",
        "z = np.zeros(x.shape)\n",
        "\n",
        "for i in x:\n",
        "  if i == D_time-1:\n",
        "    y[i]=0\n",
        "  else:\n",
        "    y[i] = np.where(G_disease_ib == (D_time-x[i]-1))[0].size\n",
        "for i in x:\n",
        "  z[i] = sum(y[0:i])\n",
        "\n",
        "plt.figure(figsize=(16, 8))\n",
        "\n",
        "plt.title(\"Patients Spread\")\n",
        "plt.ylabel(\"Patient cases\")\n",
        "plt.xlabel(\"Time/(days)\")\n",
        "plt.plot(x, y, label=\"New\", linewidth=1, color='b', marker='*',\n",
        "         markerfacecolor='blue', markersize=5)\n",
        "plt.plot(x, z, label=\"Total\", linewidth=1, color='r', marker='^',\n",
        "         markerfacecolor='red', markersize=5)\n",
        "\n",
        "# for a,b in zip(x,y):\n",
        "#     plt.text(a, b, '%d' % b, ha='center', va= 'bottom',fontsize=9)\n",
        "# for a,b in zip(x,z):\n",
        "#     plt.text(a, b, '%d' % b, ha='center', va= 'bottom',fontsize=9)\n",
        "    \n",
        "plt.legend()\n",
        "\n",
        "plt.gca().xaxis.set_major_locator(MaxNLocator(integer=True))\n",
        "\n",
        "plt.show()"
      ],
      "metadata": {
        "colab": {
          "base_uri": "https://localhost:8080/",
          "height": 513
        },
        "outputId": "add3091c-14bd-4c91-c417-4abe2e9201ed",
        "id": "XZIh7ATN7j4G"
      },
      "execution_count": null,
      "outputs": [
        {
          "output_type": "display_data",
          "data": {
            "text/plain": [
              "<Figure size 1152x576 with 1 Axes>"
            ],
            "image/png": "[encoded data removed]"
          },
          "metadata": {
            "needs_background": "light"
          }
        }
      ]
    },
    {
      "cell_type": "markdown",
      "source": [
        "###With random isolating"
      ],
      "metadata": {
        "id": "J8tVANknN9W-"
      }
    },
    {
      "cell_type": "code",
      "source": [
        "# Reset Blocking\n",
        "patient_list_copy = patient_list\n",
        "Blocks_random = []\n",
        "Blocks.append(B_isolate)"
      ],
      "metadata": {
        "id": "qwC5yT7my7Ue"
      },
      "execution_count": null,
      "outputs": []
    },
    {
      "cell_type": "code",
      "source": [
        "# Blockwise\n",
        "while(len(patient_list_copy)>0):\n",
        "  sample_num = random.randint(1,Block_max)\n",
        "  sample_list = [i for i in range(len(patient_list_copy))] \n",
        "  B_temp = patient_list_copy[random.sample(sample_list, min(len(patient_list_copy),sample_num))]\n",
        "  for i in B_temp:\n",
        "    patient_list_copy = np.delete(patient_list_copy, np.where(patient_list_copy == i)[0])\n",
        "  Blocks_random.append(B_temp)\n",
        "  print('Blocks num {}, remaining nodes {}'.format(len(Blocks_random),len(patient_list_copy)))\n",
        "  # break"
      ],
      "metadata": {
        "colab": {
          "base_uri": "https://localhost:8080/"
        },
        "outputId": "82216f94-0a1d-4a53-e7ae-9b1969da230f",
        "id": "mLQKUV0my14w"
      },
      "execution_count": null,
      "outputs": [
        {
          "output_type": "stream",
          "name": "stdout",
          "text": [
            "Blocks num 1, remaining nodes 764\n",
            "Blocks num 2, remaining nodes 761\n",
            "Blocks num 3, remaining nodes 746\n",
            "Blocks num 4, remaining nodes 703\n",
            "Blocks num 5, remaining nodes 678\n",
            "Blocks num 6, remaining nodes 657\n",
            "Blocks num 7, remaining nodes 616\n",
            "Blocks num 8, remaining nodes 587\n",
            "Blocks num 9, remaining nodes 555\n",
            "Blocks num 10, remaining nodes 543\n",
            "Blocks num 11, remaining nodes 494\n",
            "Blocks num 12, remaining nodes 453\n",
            "Blocks num 13, remaining nodes 441\n",
            "Blocks num 14, remaining nodes 408\n",
            "Blocks num 15, remaining nodes 391\n",
            "Blocks num 16, remaining nodes 372\n",
            "Blocks num 17, remaining nodes 353\n",
            "Blocks num 18, remaining nodes 303\n",
            "Blocks num 19, remaining nodes 297\n",
            "Blocks num 20, remaining nodes 296\n",
            "Blocks num 21, remaining nodes 272\n",
            "Blocks num 22, remaining nodes 236\n",
            "Blocks num 23, remaining nodes 203\n",
            "Blocks num 24, remaining nodes 197\n",
            "Blocks num 25, remaining nodes 172\n",
            "Blocks num 26, remaining nodes 151\n",
            "Blocks num 27, remaining nodes 107\n",
            "Blocks num 28, remaining nodes 63\n",
            "Blocks num 29, remaining nodes 14\n",
            "Blocks num 30, remaining nodes 0\n"
          ]
        }
      ]
    },
    {
      "cell_type": "code",
      "source": [
        "len(Blocks_random)"
      ],
      "metadata": {
        "colab": {
          "base_uri": "https://localhost:8080/"
        },
        "id": "3M91wGgp9MiW",
        "outputId": "4e70b5c1-0610-4ad9-8ec7-df9c30e6a967"
      },
      "execution_count": null,
      "outputs": [
        {
          "output_type": "execute_result",
          "data": {
            "text/plain": [
              "30"
            ]
          },
          "metadata": {},
          "execution_count": 38
        }
      ]
    },
    {
      "cell_type": "code",
      "source": [
        "print(Blocks_random)"
      ],
      "metadata": {
        "colab": {
          "base_uri": "https://localhost:8080/"
        },
        "outputId": "a4b7f017-23ca-4e15-8a45-db1349cf1c5f",
        "id": "Db5BWLHm08ZT"
      },
      "execution_count": null,
      "outputs": [
        {
          "output_type": "stream",
          "name": "stdout",
          "text": [
            "[array([780, 486, 649, 517, 774, 595,  12, 451, 732, 353, 464, 338, 734,\n",
            "       559, 604, 224, 431,  49, 159, 781, 693,  68,  55, 336]), array([574, 241, 599]), array([423, 514, 149, 355, 374, 158, 766, 518, 408, 443, 491, 711,  54,\n",
            "       112, 643]), array([516, 562, 150, 182,  60, 742, 703, 748, 476, 337, 775, 687, 745,\n",
            "       738, 740, 192,  95, 605, 120, 105, 768, 568, 284,   1, 389, 210,\n",
            "       319, 495, 657, 382, 636, 772, 561, 767, 215, 577, 542, 449, 480,\n",
            "       138, 226, 579, 269]), array([403, 751, 154,  16, 360,  14, 655,  86, 501, 102, 185, 183, 492,\n",
            "        53, 515, 393, 433, 321, 528, 252, 200, 108, 537,  10, 728]), array([667, 394, 246, 217,  64, 588, 194, 191, 565, 435, 634, 354, 323,\n",
            "       155, 446, 586, 181, 508, 557, 730, 465]), array([583, 526, 100, 662, 223, 560, 296, 348, 506, 104,  91, 235, 472,\n",
            "       695, 645, 406, 741, 434,  28, 661, 278,  98, 281, 220,  37, 297,\n",
            "       702, 140, 546,  24, 166, 593, 116,  93,  22, 271, 437, 483, 664,\n",
            "       761, 125]), array([384, 530, 754, 156, 678, 208,  96,  51, 106, 109, 201, 373, 575,\n",
            "       316, 529, 119, 386, 644, 145, 710, 439, 473,  40, 458, 270, 199,\n",
            "       401, 699, 377]), array([704, 597, 320, 141, 509, 652, 282, 494,  44, 580, 470, 436, 143,\n",
            "       277, 544, 444, 379, 563, 324, 786, 264, 333, 679, 629, 172, 582,\n",
            "       383, 592, 459, 227, 289, 778]), array([440, 136, 676, 267, 396, 755, 137, 536, 712, 362, 668, 110]), array([520, 573, 322,  74, 684, 425,  17, 411, 198,  42, 419, 448, 737,\n",
            "       656, 463, 690, 372, 251,  27, 330, 310, 665, 457, 130, 294, 674,\n",
            "       726, 368, 743, 222, 705, 171, 167, 123, 724,  26, 168, 276, 122,\n",
            "       749, 237, 300, 327, 700,  18, 272, 376, 467, 771]), array([ 57, 378, 682, 442, 714, 162, 258, 218, 161,  36, 187, 753, 525,\n",
            "       541, 397, 343, 499, 673, 268,  72, 571, 534, 206,   3, 598, 752,\n",
            "       232, 292, 689, 540, 127, 564, 663,  97, 233, 286, 279, 479, 462,\n",
            "        80, 121]), array([513, 326, 770, 349, 344, 567, 594, 706, 609, 400, 788, 392]), array([504, 101, 602, 115, 554, 535,  25, 250, 739, 777, 782, 620, 302,\n",
            "       455, 756, 347, 331, 461, 165, 346, 146, 524, 117, 350,   7, 356,\n",
            "        87, 177, 722,  69, 230, 274, 672]), array([239, 371, 779, 422,  52, 721,  58, 632, 314, 213, 641,   9, 719,\n",
            "       261, 409, 291, 128]), array([242,  89, 758, 613, 688, 773, 313, 179,  70, 410, 189, 466, 334,\n",
            "       315, 225, 757,   5,  63, 637]), array([190, 424, 219, 170, 352, 176, 556, 619, 555, 153, 697, 266, 460,\n",
            "       527, 759, 736, 550, 489, 195]), array([ 59, 622,  71, 361, 633, 318, 454, 651, 725, 184, 621, 209, 205,\n",
            "       750, 708, 133, 624, 576,   4, 196, 587, 207,  99, 776, 503,  21,\n",
            "        32, 193, 626, 615, 590, 211, 701, 285, 367, 312, 765, 445, 783,\n",
            "       429, 221, 677, 391,  56, 290, 204, 245, 614,  90, 413]), array([497, 428,  83, 402, 107, 160]), array([48]), array([552, 293, 731, 311, 553, 585, 244, 357, 169, 596, 683, 329,  77,\n",
            "       365,  61, 692, 405, 608, 764, 132,  30, 505,  34, 538]), array([ 31, 203, 375, 551, 152, 468, 670, 308, 456,  13, 789, 680,  81,\n",
            "       666, 545, 715, 570, 417, 304, 653, 522, 202, 380, 262, 214, 453,\n",
            "       650,  33, 533, 415,  94, 212, 475, 639, 584, 760]), array([549, 638, 600, 531, 558, 257, 288, 366, 572, 469, 157, 359, 236,\n",
            "       628, 114,   2, 342, 263, 578, 387, 260, 474,  92,  39, 482,  82,\n",
            "       618, 238,  66, 147,  84, 691,  67]), array([729, 142, 421, 256, 481, 625]), array([763, 512, 197, 228, 339, 671, 341,  65, 606,  11, 681, 539, 769,\n",
            "        50, 306, 635, 502, 416, 332, 669, 253, 340, 388, 404, 126]), array([601, 543, 280, 785,  23, 248, 762, 298, 414, 427, 747,  85, 498,\n",
            "       511, 299, 660, 307,  29, 124, 623, 532]), array([216, 727, 381, 477, 118, 432, 521, 303, 358,   8, 694,  76, 438,\n",
            "       735, 490, 686, 317, 675,  79, 484, 363,  88, 335,  75, 616, 631,\n",
            "       441, 607, 723,  38, 309, 658, 450, 430,  73, 696,  20, 129, 589,\n",
            "       325, 301, 547, 648,  41]), array([510, 717,  46, 295,  43, 647, 447, 173, 646, 180, 627, 351, 630,\n",
            "       612, 273, 787, 487, 139, 283, 407, 399, 418, 287, 611, 135, 390,\n",
            "        45, 496, 243, 744, 642, 370, 659, 255, 566, 305,  78, 265, 485,\n",
            "       412, 148, 654, 178, 716]), array([385, 328, 610, 581, 698, 720, 175, 249, 707, 188, 186, 131, 493,\n",
            "       151, 746, 685,  35,  62, 113, 420, 103, 488,  47, 234, 240, 259,\n",
            "       229,  15, 507, 500, 519, 398, 603,   6, 640,  19, 523, 144, 784,\n",
            "       254, 426, 569, 134, 733, 174, 718, 247, 275, 369]), array([478, 231, 111, 163, 713, 364, 452, 617, 345, 591, 709, 471, 395,\n",
            "       164])]\n"
          ]
        }
      ]
    },
    {
      "cell_type": "code",
      "source": [
        "# Reset the patients status\n",
        "G_disease_ib = np.full((1,df_char.shape[0]),0)[0]\n",
        "G_disease_ib[patient_zero] = 1\n",
        "patient_list_ib = np.where(G_disease_ib>0)[0]\n",
        "isolate_list_b = []\n",
        "potential_list_ib = potential_list\n",
        "Block_list = np.array(list(range(len(Blocks_random))))\n",
        "latency = 4\n",
        "\n",
        "print(patient_list_ib)"
      ],
      "metadata": {
        "colab": {
          "base_uri": "https://localhost:8080/"
        },
        "outputId": "c3baf97c-5729-4673-ae86-cf82ab7d6c81",
        "id": "lpvSCc-7-dcb"
      },
      "execution_count": null,
      "outputs": [
        {
          "output_type": "stream",
          "name": "stdout",
          "text": [
            "[538]\n"
          ]
        }
      ]
    },
    {
      "cell_type": "code",
      "source": [
        "# Covid-19 simulating with blockwise isolating random\n",
        "TIME = 30 #Days\n",
        "patients_num = len(patient_list_ib)\n",
        "print(\"Start simulating, Day 0, we have patients:\", patients_num)\n",
        "\n",
        "for days in trange(TIME):\n",
        "  for p in potential_list_ib:\n",
        "    # if (np.where(isolate_list_b == p)[0].size == 0):\n",
        "      for op in potential_list_ib:\n",
        "        # if (np.where(isolate_list_b == op)[0].size == 0) and (op>=p):\n",
        "        if (op>=p):\n",
        "          if (np.where(patient_list_ib == p)[0].size > 0):\n",
        "            t_interaction = np.random.normal(loc=G_base[p][op], scale=1) * 20/60\n",
        "            t_interaction = max(0,t_interaction)  \n",
        "            if (np.random.random() <= Alpha_rate(t_interaction) and G_disease_ib[op] == 0):\n",
        "              G_disease_ib[op] = 1\n",
        "          elif (np.where(patient_list_ib == op)[0].size > 0):\n",
        "            t_interaction = np.random.normal(loc=G_base[p][op], scale=1) * 20/60\n",
        "            t_interaction = max(0,t_interaction)\n",
        "            if (np.random.random() <= Alpha_rate(t_interaction) and G_disease_ib[p] == 0):\n",
        "              G_disease_ib[p] = 1\n",
        "\n",
        "  for p in range(len(G_disease_ib)):\n",
        "    if G_disease_ib[p] > 0:\n",
        "      G_disease_ib[p] += 1\n",
        "    if (G_disease_ib[p] >= latency) and (np.where(np.array(isolate_list_b) == p)[0].size == 0):\n",
        "      isolate_list_b.append(p)\n",
        "      for b in Block_list:\n",
        "        if np.where(Blocks_random[b] == p)[0].size >0:\n",
        "          isolate_list_b.extend(Blocks_random[b].tolist())\n",
        "          Block_list = np.delete(Block_list, np.where(Block_list == b)[0])\n",
        "          break\n",
        "  patient_list_ib = np.where(G_disease_ib>0)[0]\n",
        "  # print(isolate_list_b)\n",
        "  for i in isolate_list_b:\n",
        "    potential_list_ib = np.delete(potential_list_ib, np.where(potential_list_ib == i)[0])\n",
        "  \n",
        "  print('Day {}: we have {} patients, {} cases of new patients, {} isolated patients'.format(days+1,len(patient_list_ib), len(patient_list_ib)-patients_num, len(isolate_list_b)))\n",
        "  patients_num = len(patient_list_ib)\n",
        "\n",
        "  if len(patient_list_ib) == len(potential_list):\n",
        "    print(\"Everybody in potential list got sick!\")\n",
        "    break\n",
        "\n",
        "  if set(patient_list_ib).issubset(isolate_list_b):\n",
        "    print(\"Every patients are isolated!\")\n",
        "    break"
      ],
      "metadata": {
        "colab": {
          "base_uri": "https://localhost:8080/"
        },
        "outputId": "5724b266-67b8-41c6-d88e-abacdd1f1e90",
        "id": "h0FdQ-hW-dch"
      },
      "execution_count": null,
      "outputs": [
        {
          "output_type": "stream",
          "name": "stdout",
          "text": [
            "Start simulating, Day 0, we have patients: 1\n"
          ]
        },
        {
          "output_type": "stream",
          "name": "stderr",
          "text": [
            "  3%|▎         | 1/30 [00:01<00:50,  1.74s/it]"
          ]
        },
        {
          "output_type": "stream",
          "name": "stdout",
          "text": [
            "Day 1: we have 3 patients, 2 cases of new patients, 0 isolated patients\n"
          ]
        },
        {
          "output_type": "stream",
          "name": "stderr",
          "text": [
            "\r  7%|▋         | 2/30 [00:03<00:49,  1.75s/it]"
          ]
        },
        {
          "output_type": "stream",
          "name": "stdout",
          "text": [
            "Day 2: we have 6 patients, 3 cases of new patients, 0 isolated patients\n"
          ]
        },
        {
          "output_type": "stream",
          "name": "stderr",
          "text": [
            "\r 10%|█         | 3/30 [00:05<00:47,  1.75s/it]"
          ]
        },
        {
          "output_type": "stream",
          "name": "stdout",
          "text": [
            "Day 3: we have 11 patients, 5 cases of new patients, 87 isolated patients\n"
          ]
        },
        {
          "output_type": "stream",
          "name": "stderr",
          "text": [
            "\r 13%|█▎        | 4/30 [00:06<00:41,  1.62s/it]"
          ]
        },
        {
          "output_type": "stream",
          "name": "stdout",
          "text": [
            "Day 4: we have 22 patients, 11 cases of new patients, 133 isolated patients\n"
          ]
        },
        {
          "output_type": "stream",
          "name": "stderr",
          "text": [
            "\r 17%|█▋        | 5/30 [00:07<00:37,  1.51s/it]"
          ]
        },
        {
          "output_type": "stream",
          "name": "stdout",
          "text": [
            "Day 5: we have 34 patients, 12 cases of new patients, 235 isolated patients\n"
          ]
        },
        {
          "output_type": "stream",
          "name": "stderr",
          "text": [
            "\r 20%|██        | 6/30 [00:08<00:32,  1.34s/it]"
          ]
        },
        {
          "output_type": "stream",
          "name": "stdout",
          "text": [
            "Day 6: we have 48 patients, 14 cases of new patients, 490 isolated patients\n"
          ]
        },
        {
          "output_type": "stream",
          "name": "stderr",
          "text": [
            "\r 23%|██▎       | 7/30 [00:09<00:23,  1.01s/it]"
          ]
        },
        {
          "output_type": "stream",
          "name": "stdout",
          "text": [
            "Day 7: we have 54 patients, 6 cases of new patients, 575 isolated patients\n"
          ]
        },
        {
          "output_type": "stream",
          "name": "stderr",
          "text": [
            " 27%|██▋       | 8/30 [00:09<00:26,  1.20s/it]"
          ]
        },
        {
          "output_type": "stream",
          "name": "stdout",
          "text": [
            "Day 8: we have 55 patients, 1 cases of new patients, 762 isolated patients\n",
            "Day 9: we have 55 patients, 0 cases of new patients, 769 isolated patients\n",
            "Every patients are isolated!\n"
          ]
        },
        {
          "output_type": "stream",
          "name": "stderr",
          "text": [
            "\n"
          ]
        }
      ]
    },
    {
      "cell_type": "code",
      "source": [
        "D_time = max(G_disease_ib)\n",
        "x = np.arange(0, D_time, 1)\n",
        "y = np.zeros(x.shape)\n",
        "z = np.zeros(x.shape)\n",
        "\n",
        "for i in x:\n",
        "  if i == D_time-1:\n",
        "    y[i]=0\n",
        "  else:\n",
        "    y[i] = np.where(G_disease_ib == (D_time-x[i]-1))[0].size\n",
        "for i in x:\n",
        "  z[i] = sum(y[0:i])\n",
        "\n",
        "plt.figure(figsize=(16, 8))\n",
        "\n",
        "plt.title(\"Patients Spread\")\n",
        "plt.ylabel(\"Patient cases\")\n",
        "plt.xlabel(\"Time/(days)\")\n",
        "plt.plot(x, y, label=\"New\", linewidth=1, color='b', marker='*',\n",
        "         markerfacecolor='blue', markersize=5)\n",
        "plt.plot(x, z, label=\"Total\", linewidth=1, color='r', marker='^',\n",
        "         markerfacecolor='red', markersize=5)\n",
        "\n",
        "# for a,b in zip(x,y):\n",
        "#     plt.text(a, b, '%d' % b, ha='center', va= 'bottom',fontsize=9)\n",
        "# for a,b in zip(x,z):\n",
        "#     plt.text(a, b, '%d' % b, ha='center', va= 'bottom',fontsize=9)\n",
        "    \n",
        "plt.legend()\n",
        "\n",
        "plt.gca().xaxis.set_major_locator(MaxNLocator(integer=True))\n",
        "\n",
        "plt.show()"
      ],
      "metadata": {
        "colab": {
          "base_uri": "https://localhost:8080/",
          "height": 513
        },
        "outputId": "03f48f2c-6043-405c-a0b1-8705bd560813",
        "id": "jjxu-KeW-dch"
      },
      "execution_count": null,
      "outputs": [
        {
          "output_type": "display_data",
          "data": {
            "text/plain": [
              "<Figure size 1152x576 with 1 Axes>"
            ],
            "image/png": "[encoded data removed]"
          },
          "metadata": {
            "needs_background": "light"
          }
        }
      ]
    },
    {
      "cell_type": "markdown",
      "source": [
        "#Data Processing"
      ],
      "metadata": {
        "id": "aJ6jvO5As_rs"
      }
    },
    {
      "cell_type": "code",
      "source": [
        "import numpy as np\n",
        "\n",
        "i = np.load(\"isolated_population_15.npy\")\n",
        "p = np.load(\"patient_population_15.npy\")\n",
        "t = np.load(\"total_days_15.npy\")"
      ],
      "metadata": {
        "id": "od42mThAtC0V"
      },
      "execution_count": null,
      "outputs": []
    },
    {
      "cell_type": "code",
      "source": [
        "np.savetxt('isolated_population_15.csv',i,delimiter=',')\n",
        "np.savetxt('patient_population_15.csv',p,delimiter=',')\n",
        "np.savetxt('total_days_15.csv',t,delimiter=',')"
      ],
      "metadata": {
        "id": "Oe-apP6Ftr5h"
      },
      "execution_count": null,
      "outputs": []
    },
    {
      "cell_type": "code",
      "source": [
        "list(range(25,80,5))"
      ],
      "metadata": {
        "colab": {
          "base_uri": "https://localhost:8080/"
        },
        "id": "c-jzOJQtvp5J",
        "outputId": "a0d31d8f-7a97-420b-db27-c5c4a560596e"
      },
      "execution_count": null,
      "outputs": [
        {
          "output_type": "execute_result",
          "data": {
            "text/plain": [
              "[25, 30, 35, 40, 45, 50, 55, 60, 65, 70, 75]"
            ]
          },
          "metadata": {},
          "execution_count": 12
        }
      ]
    }
  ]
}